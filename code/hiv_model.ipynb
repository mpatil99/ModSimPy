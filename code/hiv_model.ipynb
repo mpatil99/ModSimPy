{
 "cells": [
  {
   "cell_type": "markdown",
   "metadata": {},
   "source": [
    "### Practice Notebook\n",
    "\n",
    "Super Deadly dont touch\n",
    "\n",
    "By Manu Patil"
   ]
  },
  {
   "cell_type": "code",
   "execution_count": 15,
   "metadata": {},
   "outputs": [],
   "source": [
    "# Configure Jupyter so figures appear in the notebook\n",
    "%matplotlib inline\n",
    "\n",
    "# Configure Jupyter to display the assigned value after an assignment\n",
    "%config InteractiveShell.ast_node_interactivity='last_expr_or_assign'\n",
    "\n",
    "# import functions from the modsim.py module\n",
    "from modsim import *"
   ]
  },
  {
   "cell_type": "code",
   "execution_count": 24,
   "metadata": {},
   "outputs": [],
   "source": [
    "def make_system(Gamma, mu, tau, beta, rho, alpha, sigma, delta, pi):\n",
    "    \"\"\"Make a system object for the SIR model.\n",
    "    \n",
    "    beta: contact rate in days\n",
    "    gamma: recovery rate in days\n",
    "    \n",
    "    returns: System object\n",
    "    \"\"\"\n",
    "    init = State(R = 1000, L = 1, E = 1, V = 100);\n",
    "\n",
    "    t0 = 0\n",
    "    t_end = 7000\n",
    "    \n",
    "    return System(init=init, t0=t0, t_end=t_end,Gamma = Gamma, \n",
    "                  mu = mu, \n",
    "                  tau = tau, \n",
    "                  beta = beta, \n",
    "                  rho = rho, \n",
    "                  alpha = alpha, \n",
    "                  sigma = sigma, \n",
    "                  delta = delta, \n",
    "                  pi = pi)"
   ]
  },
  {
   "cell_type": "code",
   "execution_count": 28,
   "metadata": {},
   "outputs": [],
   "source": [
    "def update_func(state, t, system):\n",
    "    unpack(system)\n",
    "    r,l,e,v = state;\n",
    "    dR = r + r * (Gamma * tau - mu * state.R - beta * state.R * state.V)\n",
    "    dL = l + l * (rho * beta * state.R * state.V - mu * state.L - alpha * state.L)\n",
    "    dE = e + e * ((1 - rho)*beta*state.R*state.V + alpha*state.L + delta*state.E)\n",
    "    dV = v + v * (pi*state.E - sigma *state.V)\n",
    "    #print(rho * beta * state.R * state.V)\n",
    "    return State(R = dR,L = dL,E = dE,V = dV);"
   ]
  },
  {
   "cell_type": "code",
   "execution_count": 29,
   "metadata": {},
   "outputs": [],
   "source": [
    "def run_simulation(system, update_func):\n",
    "    \"\"\"Runs a simulation of the system.\n",
    "        \n",
    "    system: System object\n",
    "    update_func: function that updates state\n",
    "    \n",
    "    returns: TimeFrame\n",
    "    \"\"\"\n",
    "    unpack(system)\n",
    "    frame = TimeFrame(columns=init.index)\n",
    "    frame.row[0] = init\n",
    "    \n",
    "    for t in linrange(t0, t_end):\n",
    "        frame.row[t+1] = update_func(frame.row[t], t, system)\n",
    "    \n",
    "    return frame"
   ]
  },
  {
   "cell_type": "code",
   "execution_count": 30,
   "metadata": {},
   "outputs": [
    {
     "name": "stdout",
     "output_type": "stream",
     "text": [
      "                 R             L             E             V\n",
      "0             1000             1             1           100\n",
      "1           -27088       3.66264        25.666         -9900\n",
      "2      1.96031e+09         26523   1.67279e+06  -2.21439e+08\n",
      "3      2.29756e+23   -3.1086e+17  -1.76452e+20  -1.35113e+17\n",
      "4      1.92572e+60    2.6055e+53   1.33105e+57   2.38405e+39\n",
      "5    -2.38707e+156  3.22971e+148  1.48494e+153   3.17329e+98\n",
      "6             -inf          -inf          -inf  4.71216e+253\n",
      "7             -inf           NaN           NaN          -inf\n",
      "8              NaN           NaN           NaN           NaN\n",
      "9              NaN           NaN           NaN           NaN\n",
      "10             NaN           NaN           NaN           NaN\n",
      "11             NaN           NaN           NaN           NaN\n",
      "12             NaN           NaN           NaN           NaN\n",
      "13             NaN           NaN           NaN           NaN\n",
      "14             NaN           NaN           NaN           NaN\n",
      "15             NaN           NaN           NaN           NaN\n",
      "16             NaN           NaN           NaN           NaN\n",
      "17             NaN           NaN           NaN           NaN\n",
      "18             NaN           NaN           NaN           NaN\n",
      "19             NaN           NaN           NaN           NaN\n",
      "20             NaN           NaN           NaN           NaN\n",
      "21             NaN           NaN           NaN           NaN\n",
      "22             NaN           NaN           NaN           NaN\n",
      "23             NaN           NaN           NaN           NaN\n",
      "24             NaN           NaN           NaN           NaN\n",
      "25             NaN           NaN           NaN           NaN\n",
      "26             NaN           NaN           NaN           NaN\n",
      "27             NaN           NaN           NaN           NaN\n",
      "28             NaN           NaN           NaN           NaN\n",
      "29             NaN           NaN           NaN           NaN\n",
      "...            ...           ...           ...           ...\n",
      "6971           NaN           NaN           NaN           NaN\n",
      "6972           NaN           NaN           NaN           NaN\n",
      "6973           NaN           NaN           NaN           NaN\n",
      "6974           NaN           NaN           NaN           NaN\n",
      "6975           NaN           NaN           NaN           NaN\n",
      "6976           NaN           NaN           NaN           NaN\n",
      "6977           NaN           NaN           NaN           NaN\n",
      "6978           NaN           NaN           NaN           NaN\n",
      "6979           NaN           NaN           NaN           NaN\n",
      "6980           NaN           NaN           NaN           NaN\n",
      "6981           NaN           NaN           NaN           NaN\n",
      "6982           NaN           NaN           NaN           NaN\n",
      "6983           NaN           NaN           NaN           NaN\n",
      "6984           NaN           NaN           NaN           NaN\n",
      "6985           NaN           NaN           NaN           NaN\n",
      "6986           NaN           NaN           NaN           NaN\n",
      "6987           NaN           NaN           NaN           NaN\n",
      "6988           NaN           NaN           NaN           NaN\n",
      "6989           NaN           NaN           NaN           NaN\n",
      "6990           NaN           NaN           NaN           NaN\n",
      "6991           NaN           NaN           NaN           NaN\n",
      "6992           NaN           NaN           NaN           NaN\n",
      "6993           NaN           NaN           NaN           NaN\n",
      "6994           NaN           NaN           NaN           NaN\n",
      "6995           NaN           NaN           NaN           NaN\n",
      "6996           NaN           NaN           NaN           NaN\n",
      "6997           NaN           NaN           NaN           NaN\n",
      "6998           NaN           NaN           NaN           NaN\n",
      "6999           NaN           NaN           NaN           NaN\n",
      "7000           NaN           NaN           NaN           NaN\n",
      "\n",
      "[7001 rows x 4 columns]\n"
     ]
    },
    {
     "data": {
      "image/png": "[encoded data removed]",
      "text/plain": [
       "<Figure size 432x288 with 1 Axes>"
      ]
     },
     "metadata": {},
     "output_type": "display_data"
    }
   ],
   "source": [
    "system = make_system(1.36, .00136, .2, .00027, .1, .036 , 2, .33, 100)\n",
    "frame = run_simulation(system, update_func);\n",
    "print(frame)\n",
    "plot(frame.R);\n",
    "plot(frame.L);\n",
    "plot(frame.E);\n",
    "plot(frame.V);"
   ]
  },
  {
   "cell_type": "code",
   "execution_count": null,
   "metadata": {},
   "outputs": [],
   "source": []
  },
  {
   "cell_type": "code",
   "execution_count": null,
   "metadata": {},
   "outputs": [],
   "source": []
  }
 ],
 "metadata": {
  "kernelspec": {
   "display_name": "Python 3",
   "language": "python",
   "name": "python3"
  },
  "language_info": {
   "codemirror_mode": {
    "name": "ipython",
    "version": 3
   },
   "file_extension": ".py",
   "mimetype": "text/x-python",
   "name": "python",
   "nbconvert_exporter": "python",
   "pygments_lexer": "ipython3",
   "version": "3.6.6"
  }
 },
 "nbformat": 4,
 "nbformat_minor": 2
}
