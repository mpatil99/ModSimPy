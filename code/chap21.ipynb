{
 "cells": [
  {
   "cell_type": "markdown",
   "metadata": {},
   "source": [
    "# Modeling and Simulation in Python\n",
    "\n",
    "Chapter 21\n",
    "\n",
    "Copyright 2017 Allen Downey\n",
    "\n",
    "License: [Creative Commons Attribution 4.0 International](https://creativecommons.org/licenses/by/4.0)\n"
   ]
  },
  {
   "cell_type": "code",
   "execution_count": 1,
   "metadata": {},
   "outputs": [],
   "source": [
    "# Configure Jupyter so figures appear in the notebook\n",
    "%matplotlib inline\n",
    "\n",
    "# Configure Jupyter to display the assigned value after an assignment\n",
    "%config InteractiveShell.ast_node_interactivity='last_expr_or_assign'\n",
    "\n",
    "# import functions from the modsim.py module\n",
    "from modsim import *"
   ]
  },
  {
   "cell_type": "markdown",
   "metadata": {},
   "source": [
    "### With air resistance"
   ]
  },
  {
   "cell_type": "markdown",
   "metadata": {},
   "source": [
    "Next we'll add air resistance using the [drag equation](https://en.wikipedia.org/wiki/Drag_equation)"
   ]
  },
  {
   "cell_type": "markdown",
   "metadata": {},
   "source": [
    "I'll start by getting the units we'll need from Pint."
   ]
  },
  {
   "cell_type": "code",
   "execution_count": 2,
   "metadata": {},
   "outputs": [
    {
     "data": {
      "text/html": [
       "kilogram"
      ],
      "text/latex": [
       "$kilogram$"
      ],
      "text/plain": [
       "<Unit('kilogram')>"
      ]
     },
     "execution_count": 2,
     "metadata": {},
     "output_type": "execute_result"
    }
   ],
   "source": [
    "m = UNITS.meter\n",
    "s = UNITS.second\n",
    "kg = UNITS.kilogram"
   ]
  },
  {
   "cell_type": "markdown",
   "metadata": {},
   "source": [
    "Now I'll create a `Params` object to contain the quantities we need.  Using a Params object is convenient for grouping the system parameters in a way that's easy to read (and double-check)."
   ]
  },
  {
   "cell_type": "code",
   "execution_count": 3,
   "metadata": {},
   "outputs": [
    {
     "data": {
      "text/html": [
       "<div>\n",
       "<style scoped>\n",
       "    .dataframe tbody tr th:only-of-type {\n",
       "        vertical-align: middle;\n",
       "    }\n",
       "\n",
       "    .dataframe tbody tr th {\n",
       "        vertical-align: top;\n",
       "    }\n",
       "\n",
       "    .dataframe thead th {\n",
       "        text-align: right;\n",
       "    }\n",
       "</style>\n",
       "<table border=\"1\" class=\"dataframe\">\n",
       "  <thead>\n",
       "    <tr style=\"text-align: right;\">\n",
       "      <th></th>\n",
       "      <th>values</th>\n",
       "    </tr>\n",
       "  </thead>\n",
       "  <tbody>\n",
       "    <tr>\n",
       "      <th>height</th>\n",
       "      <td>381 meter</td>\n",
       "    </tr>\n",
       "    <tr>\n",
       "      <th>v_init</th>\n",
       "      <td>0.0 meter / second</td>\n",
       "    </tr>\n",
       "    <tr>\n",
       "      <th>g</th>\n",
       "      <td>9.8 meter / second ** 2</td>\n",
       "    </tr>\n",
       "    <tr>\n",
       "      <th>mass</th>\n",
       "      <td>0.0025 kilogram</td>\n",
       "    </tr>\n",
       "    <tr>\n",
       "      <th>diameter</th>\n",
       "      <td>0.019 meter</td>\n",
       "    </tr>\n",
       "    <tr>\n",
       "      <th>rho</th>\n",
       "      <td>1.2 kilogram / meter ** 3</td>\n",
       "    </tr>\n",
       "    <tr>\n",
       "      <th>v_term</th>\n",
       "      <td>18.0 meter / second</td>\n",
       "    </tr>\n",
       "  </tbody>\n",
       "</table>\n",
       "</div>"
      ],
      "text/plain": [
       "height                      381 meter\n",
       "v_init             0.0 meter / second\n",
       "g             9.8 meter / second ** 2\n",
       "mass                  0.0025 kilogram\n",
       "diameter                  0.019 meter\n",
       "rho         1.2 kilogram / meter ** 3\n",
       "v_term            18.0 meter / second\n",
       "dtype: object"
      ]
     },
     "execution_count": 3,
     "metadata": {},
     "output_type": "execute_result"
    }
   ],
   "source": [
    "params = Params(height = 381 * m,\n",
    "                v_init = 0 * m / s,\n",
    "                g = 9.8 * m/s**2,\n",
    "                mass = 2.5e-3 * kg,\n",
    "                diameter = 19e-3 * m,\n",
    "                rho = 1.2 * kg/m**3,\n",
    "                v_term = 18 * m / s)"
   ]
  },
  {
   "cell_type": "markdown",
   "metadata": {},
   "source": [
    "Now we can pass the `Params` object `make_system` which computes some additional parameters and defines `init`.\n",
    "\n",
    "`make_system` uses the given radius to compute `area` and the given `v_term` to compute the drag coefficient `C_d`."
   ]
  },
  {
   "cell_type": "code",
   "execution_count": 4,
   "metadata": {},
   "outputs": [],
   "source": [
    "def make_system(params):\n",
    "    \"\"\"Makes a System object for the given conditions.\n",
    "    \n",
    "    params: Params object\n",
    "    \n",
    "    returns: System object\n",
    "    \"\"\"\n",
    "    unpack(params)\n",
    "    \n",
    "    area = np.pi * (diameter/2)**2\n",
    "    C_d = 2 * mass * g / (rho * area * v_term**2)\n",
    "    init = State(y=height, v=v_init)\n",
    "    t_end = 30 * s\n",
    "    \n",
    "    return System(params, area=area, C_d=C_d, \n",
    "                  init=init, t_end=t_end)"
   ]
  },
  {
   "cell_type": "markdown",
   "metadata": {},
   "source": [
    "Let's make a `System`"
   ]
  },
  {
   "cell_type": "code",
   "execution_count": 5,
   "metadata": {},
   "outputs": [
    {
     "data": {
      "text/html": [
       "<div>\n",
       "<style scoped>\n",
       "    .dataframe tbody tr th:only-of-type {\n",
       "        vertical-align: middle;\n",
       "    }\n",
       "\n",
       "    .dataframe tbody tr th {\n",
       "        vertical-align: top;\n",
       "    }\n",
       "\n",
       "    .dataframe thead th {\n",
       "        text-align: right;\n",
       "    }\n",
       "</style>\n",
       "<table border=\"1\" class=\"dataframe\">\n",
       "  <thead>\n",
       "    <tr style=\"text-align: right;\">\n",
       "      <th></th>\n",
       "      <th>values</th>\n",
       "    </tr>\n",
       "  </thead>\n",
       "  <tbody>\n",
       "    <tr>\n",
       "      <th>height</th>\n",
       "      <td>381 meter</td>\n",
       "    </tr>\n",
       "    <tr>\n",
       "      <th>v_init</th>\n",
       "      <td>0.0 meter / second</td>\n",
       "    </tr>\n",
       "    <tr>\n",
       "      <th>g</th>\n",
       "      <td>9.8 meter / second ** 2</td>\n",
       "    </tr>\n",
       "    <tr>\n",
       "      <th>mass</th>\n",
       "      <td>0.0025 kilogram</td>\n",
       "    </tr>\n",
       "    <tr>\n",
       "      <th>diameter</th>\n",
       "      <td>0.019 meter</td>\n",
       "    </tr>\n",
       "    <tr>\n",
       "      <th>rho</th>\n",
       "      <td>1.2 kilogram / meter ** 3</td>\n",
       "    </tr>\n",
       "    <tr>\n",
       "      <th>v_term</th>\n",
       "      <td>18.0 meter / second</td>\n",
       "    </tr>\n",
       "    <tr>\n",
       "      <th>area</th>\n",
       "      <td>0.0002835287369864788 meter ** 2</td>\n",
       "    </tr>\n",
       "    <tr>\n",
       "      <th>C_d</th>\n",
       "      <td>0.4445009981135434 dimensionless</td>\n",
       "    </tr>\n",
       "    <tr>\n",
       "      <th>init</th>\n",
       "      <td>y             381 meter\n",
       "v    0.0 meter / secon...</td>\n",
       "    </tr>\n",
       "    <tr>\n",
       "      <th>t_end</th>\n",
       "      <td>30 second</td>\n",
       "    </tr>\n",
       "  </tbody>\n",
       "</table>\n",
       "</div>"
      ],
      "text/plain": [
       "height                                              381 meter\n",
       "v_init                                     0.0 meter / second\n",
       "g                                     9.8 meter / second ** 2\n",
       "mass                                          0.0025 kilogram\n",
       "diameter                                          0.019 meter\n",
       "rho                                 1.2 kilogram / meter ** 3\n",
       "v_term                                    18.0 meter / second\n",
       "area                         0.0002835287369864788 meter ** 2\n",
       "C_d                          0.4445009981135434 dimensionless\n",
       "init        y             381 meter\n",
       "v    0.0 meter / secon...\n",
       "t_end                                               30 second\n",
       "dtype: object"
      ]
     },
     "execution_count": 5,
     "metadata": {},
     "output_type": "execute_result"
    }
   ],
   "source": [
    "system = make_system(params)"
   ]
  },
  {
   "cell_type": "markdown",
   "metadata": {},
   "source": [
    "Here's the slope function, including acceleration due to gravity and drag."
   ]
  },
  {
   "cell_type": "code",
   "execution_count": 6,
   "metadata": {},
   "outputs": [],
   "source": [
    "def slope_func(state, t, system):\n",
    "    \"\"\"Compute derivatives of the state.\n",
    "    \n",
    "    state: position, velocity\n",
    "    t: time\n",
    "    system: System object\n",
    "    \n",
    "    returns: derivatives of y and v\n",
    "    \"\"\"\n",
    "    y, v = state\n",
    "    unpack(system)\n",
    "    \n",
    "    f_drag = rho * v**2 * C_d * area / 2\n",
    "    a_drag = f_drag / mass\n",
    "    \n",
    "    dydt = v\n",
    "    dvdt = -g + a_drag\n",
    "    \n",
    "    return dydt, dvdt"
   ]
  },
  {
   "cell_type": "markdown",
   "metadata": {},
   "source": [
    "As always, let's test the slope function with the initial conditions."
   ]
  },
  {
   "cell_type": "code",
   "execution_count": 7,
   "metadata": {},
   "outputs": [
    {
     "data": {
      "text/plain": [
       "(<Quantity(0.0, 'meter / second')>, <Quantity(-9.8, 'meter / second ** 2')>)"
      ]
     },
     "execution_count": 7,
     "metadata": {},
     "output_type": "execute_result"
    }
   ],
   "source": [
    "slope_func(system.init, 0, system)"
   ]
  },
  {
   "cell_type": "markdown",
   "metadata": {},
   "source": [
    "We can use the same event function as in the previous chapter."
   ]
  },
  {
   "cell_type": "code",
   "execution_count": 8,
   "metadata": {},
   "outputs": [],
   "source": [
    "def event_func(state, t, system):\n",
    "    \"\"\"Return the height of the penny above the sidewalk.\n",
    "    \"\"\"\n",
    "    y, v = state\n",
    "    return y"
   ]
  },
  {
   "cell_type": "markdown",
   "metadata": {},
   "source": [
    "And then run the simulation."
   ]
  },
  {
   "cell_type": "code",
   "execution_count": 9,
   "metadata": {},
   "outputs": [
    {
     "data": {
      "text/plain": [
       "'A termination event occurred.'"
      ]
     },
     "execution_count": 9,
     "metadata": {},
     "output_type": "execute_result"
    }
   ],
   "source": [
    "results, details = run_ode_solver(system, slope_func, events=event_func, max_step=0.5*s)\n",
    "details.message"
   ]
  },
  {
   "cell_type": "markdown",
   "metadata": {},
   "source": [
    "Here are the results."
   ]
  },
  {
   "cell_type": "code",
   "execution_count": 10,
   "metadata": {},
   "outputs": [
    {
     "data": {
      "text/html": [
       "<div>\n",
       "<style scoped>\n",
       "    .dataframe tbody tr th:only-of-type {\n",
       "        vertical-align: middle;\n",
       "    }\n",
       "\n",
       "    .dataframe tbody tr th {\n",
       "        vertical-align: top;\n",
       "    }\n",
       "\n",
       "    .dataframe thead th {\n",
       "        text-align: right;\n",
       "    }\n",
       "</style>\n",
       "<table border=\"1\" class=\"dataframe\">\n",
       "  <thead>\n",
       "    <tr style=\"text-align: right;\">\n",
       "      <th></th>\n",
       "      <th>y</th>\n",
       "      <th>v</th>\n",
       "    </tr>\n",
       "  </thead>\n",
       "  <tbody>\n",
       "    <tr>\n",
       "      <th>0.000000</th>\n",
       "      <td>3.810000e+02</td>\n",
       "      <td>0.000000</td>\n",
       "    </tr>\n",
       "    <tr>\n",
       "      <th>0.000102</th>\n",
       "      <td>3.810000e+02</td>\n",
       "      <td>-0.001000</td>\n",
       "    </tr>\n",
       "    <tr>\n",
       "      <th>0.001122</th>\n",
       "      <td>3.810000e+02</td>\n",
       "      <td>-0.011000</td>\n",
       "    </tr>\n",
       "    <tr>\n",
       "      <th>0.011327</th>\n",
       "      <td>3.809994e+02</td>\n",
       "      <td>-0.110998</td>\n",
       "    </tr>\n",
       "    <tr>\n",
       "      <th>0.113367</th>\n",
       "      <td>3.809371e+02</td>\n",
       "      <td>-1.109588</td>\n",
       "    </tr>\n",
       "    <tr>\n",
       "      <th>0.613367</th>\n",
       "      <td>3.791898e+02</td>\n",
       "      <td>-5.797088</td>\n",
       "    </tr>\n",
       "    <tr>\n",
       "      <th>1.113367</th>\n",
       "      <td>3.752652e+02</td>\n",
       "      <td>-9.745614</td>\n",
       "    </tr>\n",
       "    <tr>\n",
       "      <th>1.613367</th>\n",
       "      <td>3.696115e+02</td>\n",
       "      <td>-12.701005</td>\n",
       "    </tr>\n",
       "    <tr>\n",
       "      <th>2.113367</th>\n",
       "      <td>3.627205e+02</td>\n",
       "      <td>-14.723219</td>\n",
       "    </tr>\n",
       "    <tr>\n",
       "      <th>2.613367</th>\n",
       "      <td>3.550087e+02</td>\n",
       "      <td>-16.023394</td>\n",
       "    </tr>\n",
       "    <tr>\n",
       "      <th>3.113367</th>\n",
       "      <td>3.467797e+02</td>\n",
       "      <td>-16.826181</td>\n",
       "    </tr>\n",
       "    <tr>\n",
       "      <th>3.613367</th>\n",
       "      <td>3.382354e+02</td>\n",
       "      <td>-17.309535</td>\n",
       "    </tr>\n",
       "    <tr>\n",
       "      <th>4.113367</th>\n",
       "      <td>3.295027e+02</td>\n",
       "      <td>-17.596161</td>\n",
       "    </tr>\n",
       "    <tr>\n",
       "      <th>4.613367</th>\n",
       "      <td>3.206587e+02</td>\n",
       "      <td>-17.764595</td>\n",
       "    </tr>\n",
       "    <tr>\n",
       "      <th>5.113367</th>\n",
       "      <td>3.117496e+02</td>\n",
       "      <td>-17.863049</td>\n",
       "    </tr>\n",
       "    <tr>\n",
       "      <th>5.613367</th>\n",
       "      <td>3.028025e+02</td>\n",
       "      <td>-17.920417</td>\n",
       "    </tr>\n",
       "    <tr>\n",
       "      <th>6.113367</th>\n",
       "      <td>2.938332e+02</td>\n",
       "      <td>-17.953785</td>\n",
       "    </tr>\n",
       "    <tr>\n",
       "      <th>6.613367</th>\n",
       "      <td>2.848510e+02</td>\n",
       "      <td>-17.973173</td>\n",
       "    </tr>\n",
       "    <tr>\n",
       "      <th>7.113367</th>\n",
       "      <td>2.758613e+02</td>\n",
       "      <td>-17.984431</td>\n",
       "    </tr>\n",
       "    <tr>\n",
       "      <th>7.613367</th>\n",
       "      <td>2.668673e+02</td>\n",
       "      <td>-17.990966</td>\n",
       "    </tr>\n",
       "    <tr>\n",
       "      <th>8.113367</th>\n",
       "      <td>2.578708e+02</td>\n",
       "      <td>-17.994758</td>\n",
       "    </tr>\n",
       "    <tr>\n",
       "      <th>8.613367</th>\n",
       "      <td>2.488728e+02</td>\n",
       "      <td>-17.996958</td>\n",
       "    </tr>\n",
       "    <tr>\n",
       "      <th>9.113367</th>\n",
       "      <td>2.398740e+02</td>\n",
       "      <td>-17.998235</td>\n",
       "    </tr>\n",
       "    <tr>\n",
       "      <th>9.613367</th>\n",
       "      <td>2.308747e+02</td>\n",
       "      <td>-17.998976</td>\n",
       "    </tr>\n",
       "    <tr>\n",
       "      <th>10.113367</th>\n",
       "      <td>2.218751e+02</td>\n",
       "      <td>-17.999406</td>\n",
       "    </tr>\n",
       "    <tr>\n",
       "      <th>10.613367</th>\n",
       "      <td>2.128753e+02</td>\n",
       "      <td>-17.999655</td>\n",
       "    </tr>\n",
       "    <tr>\n",
       "      <th>11.113367</th>\n",
       "      <td>2.038754e+02</td>\n",
       "      <td>-17.999800</td>\n",
       "    </tr>\n",
       "    <tr>\n",
       "      <th>11.613367</th>\n",
       "      <td>1.948755e+02</td>\n",
       "      <td>-17.999884</td>\n",
       "    </tr>\n",
       "    <tr>\n",
       "      <th>12.113367</th>\n",
       "      <td>1.858756e+02</td>\n",
       "      <td>-17.999933</td>\n",
       "    </tr>\n",
       "    <tr>\n",
       "      <th>12.613367</th>\n",
       "      <td>1.768756e+02</td>\n",
       "      <td>-17.999961</td>\n",
       "    </tr>\n",
       "    <tr>\n",
       "      <th>13.113367</th>\n",
       "      <td>1.678756e+02</td>\n",
       "      <td>-17.999977</td>\n",
       "    </tr>\n",
       "    <tr>\n",
       "      <th>13.613367</th>\n",
       "      <td>1.588756e+02</td>\n",
       "      <td>-17.999987</td>\n",
       "    </tr>\n",
       "    <tr>\n",
       "      <th>14.113367</th>\n",
       "      <td>1.498756e+02</td>\n",
       "      <td>-17.999992</td>\n",
       "    </tr>\n",
       "    <tr>\n",
       "      <th>14.613367</th>\n",
       "      <td>1.408756e+02</td>\n",
       "      <td>-17.999996</td>\n",
       "    </tr>\n",
       "    <tr>\n",
       "      <th>15.113367</th>\n",
       "      <td>1.318756e+02</td>\n",
       "      <td>-17.999997</td>\n",
       "    </tr>\n",
       "    <tr>\n",
       "      <th>15.613367</th>\n",
       "      <td>1.228756e+02</td>\n",
       "      <td>-17.999999</td>\n",
       "    </tr>\n",
       "    <tr>\n",
       "      <th>16.113367</th>\n",
       "      <td>1.138756e+02</td>\n",
       "      <td>-17.999999</td>\n",
       "    </tr>\n",
       "    <tr>\n",
       "      <th>16.613367</th>\n",
       "      <td>1.048756e+02</td>\n",
       "      <td>-17.999999</td>\n",
       "    </tr>\n",
       "    <tr>\n",
       "      <th>17.113367</th>\n",
       "      <td>9.587563e+01</td>\n",
       "      <td>-18.000000</td>\n",
       "    </tr>\n",
       "    <tr>\n",
       "      <th>17.613367</th>\n",
       "      <td>8.687563e+01</td>\n",
       "      <td>-18.000000</td>\n",
       "    </tr>\n",
       "    <tr>\n",
       "      <th>18.113367</th>\n",
       "      <td>7.787563e+01</td>\n",
       "      <td>-18.000000</td>\n",
       "    </tr>\n",
       "    <tr>\n",
       "      <th>18.613367</th>\n",
       "      <td>6.887563e+01</td>\n",
       "      <td>-18.000000</td>\n",
       "    </tr>\n",
       "    <tr>\n",
       "      <th>19.113367</th>\n",
       "      <td>5.987563e+01</td>\n",
       "      <td>-18.000000</td>\n",
       "    </tr>\n",
       "    <tr>\n",
       "      <th>19.613367</th>\n",
       "      <td>5.087563e+01</td>\n",
       "      <td>-18.000000</td>\n",
       "    </tr>\n",
       "    <tr>\n",
       "      <th>20.113367</th>\n",
       "      <td>4.187563e+01</td>\n",
       "      <td>-18.000000</td>\n",
       "    </tr>\n",
       "    <tr>\n",
       "      <th>20.613367</th>\n",
       "      <td>3.287563e+01</td>\n",
       "      <td>-18.000000</td>\n",
       "    </tr>\n",
       "    <tr>\n",
       "      <th>21.113367</th>\n",
       "      <td>2.387563e+01</td>\n",
       "      <td>-18.000000</td>\n",
       "    </tr>\n",
       "    <tr>\n",
       "      <th>21.613367</th>\n",
       "      <td>1.487563e+01</td>\n",
       "      <td>-18.000000</td>\n",
       "    </tr>\n",
       "    <tr>\n",
       "      <th>22.113367</th>\n",
       "      <td>5.875630e+00</td>\n",
       "      <td>-18.000000</td>\n",
       "    </tr>\n",
       "    <tr>\n",
       "      <th>22.439791</th>\n",
       "      <td>4.440892e-15</td>\n",
       "      <td>-18.000000</td>\n",
       "    </tr>\n",
       "  </tbody>\n",
       "</table>\n",
       "</div>"
      ],
      "text/plain": [
       "                      y          v\n",
       "0.000000   3.810000e+02   0.000000\n",
       "0.000102   3.810000e+02  -0.001000\n",
       "0.001122   3.810000e+02  -0.011000\n",
       "0.011327   3.809994e+02  -0.110998\n",
       "0.113367   3.809371e+02  -1.109588\n",
       "0.613367   3.791898e+02  -5.797088\n",
       "1.113367   3.752652e+02  -9.745614\n",
       "1.613367   3.696115e+02 -12.701005\n",
       "2.113367   3.627205e+02 -14.723219\n",
       "2.613367   3.550087e+02 -16.023394\n",
       "3.113367   3.467797e+02 -16.826181\n",
       "3.613367   3.382354e+02 -17.309535\n",
       "4.113367   3.295027e+02 -17.596161\n",
       "4.613367   3.206587e+02 -17.764595\n",
       "5.113367   3.117496e+02 -17.863049\n",
       "5.613367   3.028025e+02 -17.920417\n",
       "6.113367   2.938332e+02 -17.953785\n",
       "6.613367   2.848510e+02 -17.973173\n",
       "7.113367   2.758613e+02 -17.984431\n",
       "7.613367   2.668673e+02 -17.990966\n",
       "8.113367   2.578708e+02 -17.994758\n",
       "8.613367   2.488728e+02 -17.996958\n",
       "9.113367   2.398740e+02 -17.998235\n",
       "9.613367   2.308747e+02 -17.998976\n",
       "10.113367  2.218751e+02 -17.999406\n",
       "10.613367  2.128753e+02 -17.999655\n",
       "11.113367  2.038754e+02 -17.999800\n",
       "11.613367  1.948755e+02 -17.999884\n",
       "12.113367  1.858756e+02 -17.999933\n",
       "12.613367  1.768756e+02 -17.999961\n",
       "13.113367  1.678756e+02 -17.999977\n",
       "13.613367  1.588756e+02 -17.999987\n",
       "14.113367  1.498756e+02 -17.999992\n",
       "14.613367  1.408756e+02 -17.999996\n",
       "15.113367  1.318756e+02 -17.999997\n",
       "15.613367  1.228756e+02 -17.999999\n",
       "16.113367  1.138756e+02 -17.999999\n",
       "16.613367  1.048756e+02 -17.999999\n",
       "17.113367  9.587563e+01 -18.000000\n",
       "17.613367  8.687563e+01 -18.000000\n",
       "18.113367  7.787563e+01 -18.000000\n",
       "18.613367  6.887563e+01 -18.000000\n",
       "19.113367  5.987563e+01 -18.000000\n",
       "19.613367  5.087563e+01 -18.000000\n",
       "20.113367  4.187563e+01 -18.000000\n",
       "20.613367  3.287563e+01 -18.000000\n",
       "21.113367  2.387563e+01 -18.000000\n",
       "21.613367  1.487563e+01 -18.000000\n",
       "22.113367  5.875630e+00 -18.000000\n",
       "22.439791  4.440892e-15 -18.000000"
      ]
     },
     "execution_count": 10,
     "metadata": {},
     "output_type": "execute_result"
    }
   ],
   "source": [
    "results"
   ]
  },
  {
   "cell_type": "markdown",
   "metadata": {},
   "source": [
    "The final height is close to 0, as expected.\n",
    "\n",
    "Interestingly, the final velocity is not exactly terminal velocity, which suggests that there are some numerical errors.\n",
    "\n",
    "We can get the flight time from `results`."
   ]
  },
  {
   "cell_type": "code",
   "execution_count": 11,
   "metadata": {},
   "outputs": [
    {
     "data": {
      "text/plain": [
       "22.4397909658943"
      ]
     },
     "execution_count": 11,
     "metadata": {},
     "output_type": "execute_result"
    }
   ],
   "source": [
    "t_sidewalk = get_last_label(results)"
   ]
  },
  {
   "cell_type": "markdown",
   "metadata": {},
   "source": [
    "Here's the plot of position as a function of time."
   ]
  },
  {
   "cell_type": "code",
   "execution_count": 12,
   "metadata": {},
   "outputs": [
    {
     "name": "stdout",
     "output_type": "stream",
     "text": [
      "Saving figure to file figs/chap09-fig02.pdf\n"
     ]
    },
    {
     "data": {
      "image/png": "[encoded data removed]",
      "text/plain": [
       "<Figure size 432x288 with 1 Axes>"
      ]
     },
     "metadata": {},
     "output_type": "display_data"
    }
   ],
   "source": [
    "def plot_position(results):\n",
    "    plot(results.y)\n",
    "    decorate(xlabel='Time (s)',\n",
    "             ylabel='Position (m)')\n",
    "    \n",
    "plot_position(results)\n",
    "savefig('figs/chap09-fig02.pdf')"
   ]
  },
  {
   "cell_type": "markdown",
   "metadata": {},
   "source": [
    "And velocity as a function of time:"
   ]
  },
  {
   "cell_type": "code",
   "execution_count": 13,
   "metadata": {},
   "outputs": [
    {
     "data": {
      "image/png": "[encoded data removed]",
      "text/plain": [
       "<Figure size 432x288 with 1 Axes>"
      ]
     },
     "metadata": {},
     "output_type": "display_data"
    }
   ],
   "source": [
    "def plot_velocity(results):\n",
    "    plot(results.v, color='C1', label='v')\n",
    "        \n",
    "    decorate(xlabel='Time (s)',\n",
    "             ylabel='Velocity (m/s)')\n",
    "    \n",
    "plot_velocity(results)"
   ]
  },
  {
   "cell_type": "markdown",
   "metadata": {},
   "source": [
    "From an initial velocity of 0, the penny accelerates downward until it reaches terminal velocity; after that, velocity is constant."
   ]
  },
  {
   "cell_type": "markdown",
   "metadata": {},
   "source": [
    "**Exercise:** Run the simulation with an initial velocity, downward, that exceeds the penny's terminal velocity.  Hint: You can create a new `Params` object based on an existing one, like this:\n",
    "\n",
    "`params = Params(params, v_init = -30 * m / s)`\n",
    "\n",
    "What do you expect to happen?  Plot velocity and position as a function of time, and see if they are consistent with your prediction."
   ]
  },
  {
   "cell_type": "code",
   "execution_count": 14,
   "metadata": {},
   "outputs": [
    {
     "data": {
      "text/plain": [
       "'A termination event occurred.'"
      ]
     },
     "execution_count": 14,
     "metadata": {},
     "output_type": "execute_result"
    }
   ],
   "source": [
    "params = Params(params, v_init = -30 * m / s)\n",
    "system = make_system(params)\n",
    "results, details = run_ode_solver(system, slope_func, events=event_func, max_step=0.5*s)\n",
    "details.message"
   ]
  },
  {
   "cell_type": "markdown",
   "metadata": {},
   "source": [
    "I expect the velocity to approach terminal velocity and the penny to follow a similar linear descent"
   ]
  },
  {
   "cell_type": "code",
   "execution_count": 15,
   "metadata": {},
   "outputs": [
    {
     "data": {
      "image/png": "[encoded data removed]",
      "text/plain": [
       "<Figure size 432x288 with 1 Axes>"
      ]
     },
     "metadata": {},
     "output_type": "display_data"
    }
   ],
   "source": [
    "plot_position(results)"
   ]
  },
  {
   "cell_type": "code",
   "execution_count": 16,
   "metadata": {
    "scrolled": false
   },
   "outputs": [
    {
     "data": {
      "image/png": "[encoded data removed]",
      "text/plain": [
       "<Figure size 432x288 with 1 Axes>"
      ]
     },
     "metadata": {},
     "output_type": "display_data"
    }
   ],
   "source": [
    "plot_velocity(results)"
   ]
  },
  {
   "cell_type": "markdown",
   "metadata": {},
   "source": [
    "**Exercise:** Suppose we drop a quarter from the Empire State Building and find that its flight time is 19.1 seconds.  Use this measurement to estimate the terminal velocity.\n",
    "\n",
    "1. You can get the relevant dimensions of a quarter from https://en.wikipedia.org/wiki/Quarter_(United_States_coin).\n",
    "\n",
    "2. Create a `Params` object with the system parameters.  We don't know `v_term`, so we'll start with the inital guess `v_term = 18 * m / s`.\n",
    "\n",
    "3. Use `make_system` to create a `System` object.\n",
    "\n",
    "4. Call `run_ode_solver` to simulate the system.  How does the flight time of the simulation compare to the measurement?\n",
    "\n",
    "5. Try a few different values of `t_term` and see if you can get the simulated flight time close to 19.1 seconds.\n",
    "\n",
    "6. Optionally, write an error function and use `fsolve` to improve your estimate.\n",
    "\n",
    "7. Use your best estimate of `v_term` to compute `C_d`.\n",
    "\n",
    "Note: I fabricated the observed flight time, so don't take the results of this exercise too seriously."
   ]
  },
  {
   "cell_type": "code",
   "execution_count": 70,
   "metadata": {},
   "outputs": [],
   "source": [
    "params = Params(height = 381 * m,\n",
    "                v_init = 0 * m / s,\n",
    "                g = 9.8 * m/s**2,\n",
    "                mass = 6.25e-3 * kg,\n",
    "                diameter = 24.26e-3 * m,\n",
    "                rho = 1.2 * kg/m**3,\n",
    "                v_term = 21.65 * m / s);"
   ]
  },
  {
   "cell_type": "code",
   "execution_count": 71,
   "metadata": {},
   "outputs": [],
   "source": [
    "system = make_system(params);"
   ]
  },
  {
   "cell_type": "code",
   "execution_count": 72,
   "metadata": {},
   "outputs": [
    {
     "data": {
      "text/plain": [
       "'A termination event occurred.'"
      ]
     },
     "execution_count": 72,
     "metadata": {},
     "output_type": "execute_result"
    }
   ],
   "source": [
    "results, details = run_ode_solver(system, slope_func, events=event_func, max_step=0.5*s)\n",
    "details.message"
   ]
  },
  {
   "cell_type": "code",
   "execution_count": 73,
   "metadata": {},
   "outputs": [
    {
     "name": "stdout",
     "output_type": "stream",
     "text": [
      "19.12944058696638 is when the quarter hits the ground\n"
     ]
    },
    {
     "data": {
      "image/png": "[encoded data removed]",
      "text/plain": [
       "<Figure size 576x576 with 2 Axes>"
      ]
     },
     "metadata": {},
     "output_type": "display_data"
    }
   ],
   "source": [
    "print(str(results.last_valid_index()), \"is when the quarter hits the ground\")\n",
    "subplot(2,1,1)\n",
    "plot_position(results)\n",
    "subplot(2,1,2)\n",
    "plot_velocity(results)"
   ]
  },
  {
   "cell_type": "code",
   "execution_count": 82,
   "metadata": {},
   "outputs": [],
   "source": [
    "def error_func(v_term):\n",
    "    params = Params(height = 381 * m,\n",
    "                v_init = 0 * m / s,\n",
    "                g = 9.8 * m/s**2,\n",
    "                mass = 6.25e-3 * kg,\n",
    "                diameter = 24.26e-3 * m,\n",
    "                rho = 1.2 * kg/m**3,\n",
    "                v_term =v_term* m / s);\n",
    "    system = make_system(params);\n",
    "    results, details = run_ode_solver(system, slope_func, events=event_func, max_step=0.5*s)\n",
    "    return results.last_valid_index() - 19.1"
   ]
  },
  {
   "cell_type": "code",
   "execution_count": 89,
   "metadata": {},
   "outputs": [
    {
     "data": {
      "text/plain": [
       "21.689750816127223"
      ]
     },
     "execution_count": 89,
     "metadata": {},
     "output_type": "execute_result"
    }
   ],
   "source": [
    "v_term1 = fsolve(error_func, 21)[0]"
   ]
  },
  {
   "cell_type": "code",
   "execution_count": 91,
   "metadata": {},
   "outputs": [
    {
     "data": {
      "text/html": [
       "0.4694336775014514 meter<sup>2</sup>/second<sup>2</sup>"
      ],
      "text/latex": [
       "$0.4694336775014514 \\frac{meter^{2}}{second^{2}}$"
      ],
      "text/plain": [
       "<Quantity(0.4694336775014514, 'meter ** 2 / second ** 2')>"
      ]
     },
     "execution_count": 91,
     "metadata": {},
     "output_type": "execute_result"
    }
   ],
   "source": [
    "unpack(params)\n",
    "C_d = 2* mass * g / (rho * v_term1**2 *pi*(diameter/2)**2)"
   ]
  },
  {
   "cell_type": "code",
   "execution_count": 92,
   "metadata": {},
   "outputs": [],
   "source": [
    "# Solution goes here"
   ]
  },
  {
   "cell_type": "markdown",
   "metadata": {},
   "source": [
    "### Bungee jumping"
   ]
  },
  {
   "cell_type": "markdown",
   "metadata": {},
   "source": [
    "Suppose you want to set the world record for the highest \"bungee dunk\", [as shown in this video](https://www.youtube.com/watch?v=UBf7WC19lpw).  Since the record is 70 m, let's design a jump for 80 m.\n",
    "\n",
    "We'll make the following modeling assumptions:\n",
    "\n",
    "1. Initially the bungee cord hangs from a crane with the attachment point 80 m above a cup of tea.\n",
    "\n",
    "2. Until the cord is fully extended, it applies no force to the jumper.  It turns out this might not be a good assumption; we will revisit it.\n",
    "\n",
    "3. After the cord is fully extended, it obeys [Hooke's Law](https://en.wikipedia.org/wiki/Hooke%27s_law); that is, it applies a force to the jumper proportional to the extension of the cord beyond its resting length.\n",
    "\n",
    "4. The jumper is subject to drag force proportional to the square of their velocity, in the opposite of their direction of motion.\n",
    "\n",
    "Our objective is to choose the length of the cord, `L`, and its spring constant, `k`, so that the jumper falls all the way to the tea cup, but no farther! \n",
    "\n",
    "First I'll create a `Param` object to contain the quantities we'll need:\n",
    "\n",
    "1. Let's assume that the jumper's mass is 75 kg.\n",
    "\n",
    "2. With a terminal velocity of 60 m/s.\n",
    "\n",
    "3. The length of the bungee cord is `L = 40 m`.\n",
    "\n",
    "4. The spring constant of the cord is `k = 20 N / m` when the cord is stretched, and 0 when it's compressed.\n"
   ]
  },
  {
   "cell_type": "code",
   "execution_count": 93,
   "metadata": {},
   "outputs": [
    {
     "data": {
      "text/html": [
       "newton"
      ],
      "text/latex": [
       "$newton$"
      ],
      "text/plain": [
       "<Unit('newton')>"
      ]
     },
     "execution_count": 93,
     "metadata": {},
     "output_type": "execute_result"
    }
   ],
   "source": [
    "m = UNITS.meter\n",
    "s = UNITS.second\n",
    "kg = UNITS.kilogram\n",
    "N = UNITS.newton"
   ]
  },
  {
   "cell_type": "code",
   "execution_count": 94,
   "metadata": {},
   "outputs": [
    {
     "data": {
      "text/html": [
       "<div>\n",
       "<style scoped>\n",
       "    .dataframe tbody tr th:only-of-type {\n",
       "        vertical-align: middle;\n",
       "    }\n",
       "\n",
       "    .dataframe tbody tr th {\n",
       "        vertical-align: top;\n",
       "    }\n",
       "\n",
       "    .dataframe thead th {\n",
       "        text-align: right;\n",
       "    }\n",
       "</style>\n",
       "<table border=\"1\" class=\"dataframe\">\n",
       "  <thead>\n",
       "    <tr style=\"text-align: right;\">\n",
       "      <th></th>\n",
       "      <th>values</th>\n",
       "    </tr>\n",
       "  </thead>\n",
       "  <tbody>\n",
       "    <tr>\n",
       "      <th>y_attach</th>\n",
       "      <td>80 meter</td>\n",
       "    </tr>\n",
       "    <tr>\n",
       "      <th>v_init</th>\n",
       "      <td>0.0 meter / second</td>\n",
       "    </tr>\n",
       "    <tr>\n",
       "      <th>g</th>\n",
       "      <td>9.8 meter / second ** 2</td>\n",
       "    </tr>\n",
       "    <tr>\n",
       "      <th>mass</th>\n",
       "      <td>75 kilogram</td>\n",
       "    </tr>\n",
       "    <tr>\n",
       "      <th>area</th>\n",
       "      <td>1 meter ** 2</td>\n",
       "    </tr>\n",
       "    <tr>\n",
       "      <th>rho</th>\n",
       "      <td>1.2 kilogram / meter ** 3</td>\n",
       "    </tr>\n",
       "    <tr>\n",
       "      <th>v_term</th>\n",
       "      <td>60.0 meter / second</td>\n",
       "    </tr>\n",
       "    <tr>\n",
       "      <th>L</th>\n",
       "      <td>25 meter</td>\n",
       "    </tr>\n",
       "    <tr>\n",
       "      <th>k</th>\n",
       "      <td>40.0 newton / meter</td>\n",
       "    </tr>\n",
       "  </tbody>\n",
       "</table>\n",
       "</div>"
      ],
      "text/plain": [
       "y_attach                     80 meter\n",
       "v_init             0.0 meter / second\n",
       "g             9.8 meter / second ** 2\n",
       "mass                      75 kilogram\n",
       "area                     1 meter ** 2\n",
       "rho         1.2 kilogram / meter ** 3\n",
       "v_term            60.0 meter / second\n",
       "L                            25 meter\n",
       "k                 40.0 newton / meter\n",
       "dtype: object"
      ]
     },
     "execution_count": 94,
     "metadata": {},
     "output_type": "execute_result"
    }
   ],
   "source": [
    "params = Params(y_attach = 80 * m,\n",
    "                v_init = 0 * m / s,\n",
    "                g = 9.8 * m/s**2,\n",
    "                mass = 75 * kg,\n",
    "                area = 1 * m**2,\n",
    "                rho = 1.2 * kg/m**3,\n",
    "                v_term = 60 * m / s,\n",
    "                L = 25 * m,\n",
    "                k = 40 * N / m)"
   ]
  },
  {
   "cell_type": "markdown",
   "metadata": {},
   "source": [
    "Now here's a version of `make_system` that takes a `Params` object as a parameter.\n",
    "\n",
    "`make_system` uses the given value of `v_term` to compute the drag coefficient `C_d`."
   ]
  },
  {
   "cell_type": "code",
   "execution_count": 95,
   "metadata": {},
   "outputs": [],
   "source": [
    "def make_system(params):\n",
    "    \"\"\"Makes a System object for the given params.\n",
    "    \n",
    "    params: Params object\n",
    "    \n",
    "    returns: System object\n",
    "    \"\"\"\n",
    "    unpack(params)\n",
    "    \n",
    "    C_d = 2 * mass * g / (rho * area * v_term**2)\n",
    "    init = State(y=y_attach, v=v_init)\n",
    "    t_end = 20 * s\n",
    "\n",
    "    return System(params, C_d=C_d, \n",
    "                  init=init, t_end=t_end)"
   ]
  },
  {
   "cell_type": "markdown",
   "metadata": {},
   "source": [
    "Let's make a `System`"
   ]
  },
  {
   "cell_type": "code",
   "execution_count": 96,
   "metadata": {},
   "outputs": [
    {
     "data": {
      "text/html": [
       "<div>\n",
       "<style scoped>\n",
       "    .dataframe tbody tr th:only-of-type {\n",
       "        vertical-align: middle;\n",
       "    }\n",
       "\n",
       "    .dataframe tbody tr th {\n",
       "        vertical-align: top;\n",
       "    }\n",
       "\n",
       "    .dataframe thead th {\n",
       "        text-align: right;\n",
       "    }\n",
       "</style>\n",
       "<table border=\"1\" class=\"dataframe\">\n",
       "  <thead>\n",
       "    <tr style=\"text-align: right;\">\n",
       "      <th></th>\n",
       "      <th>values</th>\n",
       "    </tr>\n",
       "  </thead>\n",
       "  <tbody>\n",
       "    <tr>\n",
       "      <th>y_attach</th>\n",
       "      <td>80 meter</td>\n",
       "    </tr>\n",
       "    <tr>\n",
       "      <th>v_init</th>\n",
       "      <td>0.0 meter / second</td>\n",
       "    </tr>\n",
       "    <tr>\n",
       "      <th>g</th>\n",
       "      <td>9.8 meter / second ** 2</td>\n",
       "    </tr>\n",
       "    <tr>\n",
       "      <th>mass</th>\n",
       "      <td>75 kilogram</td>\n",
       "    </tr>\n",
       "    <tr>\n",
       "      <th>area</th>\n",
       "      <td>1 meter ** 2</td>\n",
       "    </tr>\n",
       "    <tr>\n",
       "      <th>rho</th>\n",
       "      <td>1.2 kilogram / meter ** 3</td>\n",
       "    </tr>\n",
       "    <tr>\n",
       "      <th>v_term</th>\n",
       "      <td>60.0 meter / second</td>\n",
       "    </tr>\n",
       "    <tr>\n",
       "      <th>L</th>\n",
       "      <td>25 meter</td>\n",
       "    </tr>\n",
       "    <tr>\n",
       "      <th>k</th>\n",
       "      <td>40.0 newton / meter</td>\n",
       "    </tr>\n",
       "    <tr>\n",
       "      <th>C_d</th>\n",
       "      <td>0.3402777777777778 dimensionless</td>\n",
       "    </tr>\n",
       "    <tr>\n",
       "      <th>init</th>\n",
       "      <td>y              80 meter\n",
       "v    0.0 meter / secon...</td>\n",
       "    </tr>\n",
       "    <tr>\n",
       "      <th>t_end</th>\n",
       "      <td>20 second</td>\n",
       "    </tr>\n",
       "  </tbody>\n",
       "</table>\n",
       "</div>"
      ],
      "text/plain": [
       "y_attach                                             80 meter\n",
       "v_init                                     0.0 meter / second\n",
       "g                                     9.8 meter / second ** 2\n",
       "mass                                              75 kilogram\n",
       "area                                             1 meter ** 2\n",
       "rho                                 1.2 kilogram / meter ** 3\n",
       "v_term                                    60.0 meter / second\n",
       "L                                                    25 meter\n",
       "k                                         40.0 newton / meter\n",
       "C_d                          0.3402777777777778 dimensionless\n",
       "init        y              80 meter\n",
       "v    0.0 meter / secon...\n",
       "t_end                                               20 second\n",
       "dtype: object"
      ]
     },
     "execution_count": 96,
     "metadata": {},
     "output_type": "execute_result"
    }
   ],
   "source": [
    "system = make_system(params)"
   ]
  },
  {
   "cell_type": "markdown",
   "metadata": {},
   "source": [
    "`spring_force` computes the force of the cord on the jumper:"
   ]
  },
  {
   "cell_type": "code",
   "execution_count": 97,
   "metadata": {},
   "outputs": [],
   "source": [
    "def spring_force(y, system):\n",
    "    \"\"\"Computes the force of the bungee cord on the jumper:\n",
    "    \n",
    "    y: height of the jumper\n",
    "    \n",
    "    Uses these variables from system|\n",
    "    y_attach: height of the attachment point\n",
    "    L: resting length of the cord\n",
    "    k: spring constant of the cord\n",
    "    \n",
    "    returns: force in N\n",
    "    \"\"\"\n",
    "    unpack(system)\n",
    "    distance_fallen = y_attach - y\n",
    "    if distance_fallen <= L:\n",
    "        return 0 * N\n",
    "    \n",
    "    extension = distance_fallen - L\n",
    "    f_spring = k * extension\n",
    "    return f_spring"
   ]
  },
  {
   "cell_type": "markdown",
   "metadata": {},
   "source": [
    "The spring force is 0 until the cord is fully extended.  When it is extended 1 m, the spring force is 40 N. "
   ]
  },
  {
   "cell_type": "code",
   "execution_count": 98,
   "metadata": {},
   "outputs": [
    {
     "data": {
      "text/html": [
       "0 newton"
      ],
      "text/latex": [
       "$0 newton$"
      ],
      "text/plain": [
       "<Quantity(0, 'newton')>"
      ]
     },
     "execution_count": 98,
     "metadata": {},
     "output_type": "execute_result"
    }
   ],
   "source": [
    "spring_force(80*m, system)"
   ]
  },
  {
   "cell_type": "code",
   "execution_count": 99,
   "metadata": {},
   "outputs": [
    {
     "data": {
      "text/html": [
       "0 newton"
      ],
      "text/latex": [
       "$0 newton$"
      ],
      "text/plain": [
       "<Quantity(0, 'newton')>"
      ]
     },
     "execution_count": 99,
     "metadata": {},
     "output_type": "execute_result"
    }
   ],
   "source": [
    "spring_force(55*m, system)"
   ]
  },
  {
   "cell_type": "code",
   "execution_count": 100,
   "metadata": {},
   "outputs": [
    {
     "data": {
      "text/html": [
       "40.0 newton"
      ],
      "text/latex": [
       "$40.0 newton$"
      ],
      "text/plain": [
       "<Quantity(40.0, 'newton')>"
      ]
     },
     "execution_count": 100,
     "metadata": {},
     "output_type": "execute_result"
    }
   ],
   "source": [
    "spring_force(54*m, system)"
   ]
  },
  {
   "cell_type": "markdown",
   "metadata": {},
   "source": [
    "`drag_force` computes drag as a function of velocity:"
   ]
  },
  {
   "cell_type": "code",
   "execution_count": 101,
   "metadata": {},
   "outputs": [],
   "source": [
    "def drag_force(v, system):\n",
    "    \"\"\"Computes drag force in the opposite direction of `v`.\n",
    "    \n",
    "    v: velocity\n",
    "    system: System object\n",
    "\n",
    "    returns: drag force\n",
    "    \"\"\"\n",
    "    unpack(system)\n",
    "    f_drag = -np.sign(v) * rho * v**2 * C_d * area / 2\n",
    "    return f_drag"
   ]
  },
  {
   "cell_type": "markdown",
   "metadata": {},
   "source": [
    "Here's the drag force at 60 meters per second."
   ]
  },
  {
   "cell_type": "code",
   "execution_count": 102,
   "metadata": {},
   "outputs": [
    {
     "data": {
      "text/html": [
       "735.0 kilogram meter/second<sup>2</sup>"
      ],
      "text/latex": [
       "$735.0 \\frac{kilogram \\cdot meter}{second^{2}}$"
      ],
      "text/plain": [
       "<Quantity(735.0, 'kilogram * meter / second ** 2')>"
      ]
     },
     "execution_count": 102,
     "metadata": {},
     "output_type": "execute_result"
    }
   ],
   "source": [
    "v = -60 * m/s\n",
    "f_drag = drag_force(v, system)"
   ]
  },
  {
   "cell_type": "markdown",
   "metadata": {},
   "source": [
    "Acceleration due to drag at 60 m/s is approximately g, which confirms that 60 m/s is terminal velocity."
   ]
  },
  {
   "cell_type": "code",
   "execution_count": 103,
   "metadata": {},
   "outputs": [
    {
     "data": {
      "text/html": [
       "9.8 meter/second<sup>2</sup>"
      ],
      "text/latex": [
       "$9.8 \\frac{meter}{second^{2}}$"
      ],
      "text/plain": [
       "<Quantity(9.8, 'meter / second ** 2')>"
      ]
     },
     "execution_count": 103,
     "metadata": {},
     "output_type": "execute_result"
    }
   ],
   "source": [
    "a_drag = f_drag / system.mass"
   ]
  },
  {
   "cell_type": "markdown",
   "metadata": {},
   "source": [
    "Now here's the slope function:"
   ]
  },
  {
   "cell_type": "code",
   "execution_count": 104,
   "metadata": {},
   "outputs": [],
   "source": [
    "def slope_func(state, t, system):\n",
    "    \"\"\"Compute derivatives of the state.\n",
    "    \n",
    "    state: position, velocity\n",
    "    t: time\n",
    "    system: System object containing g, rho,\n",
    "            C_d, area, and mass\n",
    "    \n",
    "    returns: derivatives of y and v\n",
    "    \"\"\"\n",
    "    y, v = state\n",
    "    unpack(system)\n",
    "    \n",
    "    a_drag = drag_force(v, system) / mass\n",
    "    a_spring = spring_force(y, system) / mass\n",
    "    dvdt = -g + a_drag + a_spring\n",
    "    \n",
    "    return v, dvdt"
   ]
  },
  {
   "cell_type": "markdown",
   "metadata": {},
   "source": [
    "As always, let's test the slope function with the initial params."
   ]
  },
  {
   "cell_type": "code",
   "execution_count": 105,
   "metadata": {},
   "outputs": [
    {
     "data": {
      "text/plain": [
       "(<Quantity(0.0, 'meter / second')>, <Quantity(-9.8, 'meter / second ** 2')>)"
      ]
     },
     "execution_count": 105,
     "metadata": {},
     "output_type": "execute_result"
    }
   ],
   "source": [
    "slope_func(system.init, 0, system)"
   ]
  },
  {
   "cell_type": "markdown",
   "metadata": {},
   "source": [
    "And then run the simulation."
   ]
  },
  {
   "cell_type": "code",
   "execution_count": 106,
   "metadata": {},
   "outputs": [
    {
     "data": {
      "text/html": [
       "<div>\n",
       "<style scoped>\n",
       "    .dataframe tbody tr th:only-of-type {\n",
       "        vertical-align: middle;\n",
       "    }\n",
       "\n",
       "    .dataframe tbody tr th {\n",
       "        vertical-align: top;\n",
       "    }\n",
       "\n",
       "    .dataframe thead th {\n",
       "        text-align: right;\n",
       "    }\n",
       "</style>\n",
       "<table border=\"1\" class=\"dataframe\">\n",
       "  <thead>\n",
       "    <tr style=\"text-align: right;\">\n",
       "      <th></th>\n",
       "      <th>values</th>\n",
       "    </tr>\n",
       "  </thead>\n",
       "  <tbody>\n",
       "    <tr>\n",
       "      <th>sol</th>\n",
       "      <td>None</td>\n",
       "    </tr>\n",
       "    <tr>\n",
       "      <th>t_events</th>\n",
       "      <td>[]</td>\n",
       "    </tr>\n",
       "    <tr>\n",
       "      <th>nfev</th>\n",
       "      <td>428</td>\n",
       "    </tr>\n",
       "    <tr>\n",
       "      <th>njev</th>\n",
       "      <td>0</td>\n",
       "    </tr>\n",
       "    <tr>\n",
       "      <th>nlu</th>\n",
       "      <td>0</td>\n",
       "    </tr>\n",
       "    <tr>\n",
       "      <th>status</th>\n",
       "      <td>0</td>\n",
       "    </tr>\n",
       "    <tr>\n",
       "      <th>message</th>\n",
       "      <td>The solver successfully reached the end of the...</td>\n",
       "    </tr>\n",
       "    <tr>\n",
       "      <th>success</th>\n",
       "      <td>True</td>\n",
       "    </tr>\n",
       "  </tbody>\n",
       "</table>\n",
       "</div>"
      ],
      "text/plain": [
       "sol                                                      None\n",
       "t_events                                                   []\n",
       "nfev                                                      428\n",
       "njev                                                        0\n",
       "nlu                                                         0\n",
       "status                                                      0\n",
       "message     The solver successfully reached the end of the...\n",
       "success                                                  True\n",
       "dtype: object"
      ]
     },
     "execution_count": 106,
     "metadata": {},
     "output_type": "execute_result"
    }
   ],
   "source": [
    "results, details = run_ode_solver(system, slope_func, max_step=0.3*s)\n",
    "details"
   ]
  },
  {
   "cell_type": "markdown",
   "metadata": {},
   "source": [
    "Here's the plot of position as a function of time."
   ]
  },
  {
   "cell_type": "code",
   "execution_count": 107,
   "metadata": {},
   "outputs": [
    {
     "data": {
      "image/png": "[encoded data removed]",
      "text/plain": [
       "<Figure size 432x288 with 1 Axes>"
      ]
     },
     "metadata": {},
     "output_type": "display_data"
    }
   ],
   "source": [
    "plot_position(results)"
   ]
  },
  {
   "cell_type": "markdown",
   "metadata": {},
   "source": [
    "After reaching the lowest point, the jumper springs back almost to almost 70 m, and oscillates several times.  That looks like more osciallation that we expect from an actual jump, which suggests that there some dissipation of energy in the real world that is not captured in our model.  To improve the model, that might be a good thing to investigate.\n",
    "\n",
    "But since we are primarily interested in the initial descent, the model might be good enough for now.\n",
    "\n",
    "We can use `min` to find the lowest point:"
   ]
  },
  {
   "cell_type": "code",
   "execution_count": 108,
   "metadata": {},
   "outputs": [
    {
     "data": {
      "text/plain": [
       "5.398727004162593"
      ]
     },
     "execution_count": 108,
     "metadata": {},
     "output_type": "execute_result"
    }
   ],
   "source": [
    "min(results.y)"
   ]
  },
  {
   "cell_type": "markdown",
   "metadata": {},
   "source": [
    "At the lowest point, the jumper is still too high, so we'll need to increase `L` or decrease `k`."
   ]
  },
  {
   "cell_type": "markdown",
   "metadata": {},
   "source": [
    "Here's velocity as a function of time:"
   ]
  },
  {
   "cell_type": "code",
   "execution_count": 109,
   "metadata": {
    "scrolled": false
   },
   "outputs": [
    {
     "data": {
      "image/png": "[encoded data removed]",
      "text/plain": [
       "<Figure size 432x288 with 1 Axes>"
      ]
     },
     "metadata": {},
     "output_type": "display_data"
    }
   ],
   "source": [
    "plot_velocity(results)"
   ]
  },
  {
   "cell_type": "code",
   "execution_count": 110,
   "metadata": {},
   "outputs": [
    {
     "name": "stdout",
     "output_type": "stream",
     "text": [
      "Saving figure to file figs/chap09-fig03.pdf\n"
     ]
    },
    {
     "data": {
      "image/png": "[encoded data removed]",
      "text/plain": [
       "<Figure size 576x396 with 2 Axes>"
      ]
     },
     "metadata": {},
     "output_type": "display_data"
    }
   ],
   "source": [
    "subplot(1, 2, 1)\n",
    "plot_position(results)\n",
    "\n",
    "subplot(1, 2, 2)\n",
    "plot_velocity(results)\n",
    "\n",
    "savefig('figs/chap09-fig03.pdf')"
   ]
  },
  {
   "cell_type": "markdown",
   "metadata": {},
   "source": [
    "Although we compute acceleration inside the slope function, we don't get acceleration as a result from `run_ode_solver`.\n",
    "\n",
    "We can approximate it by computing the numerical derivative of `ys`:"
   ]
  },
  {
   "cell_type": "code",
   "execution_count": 111,
   "metadata": {},
   "outputs": [
    {
     "data": {
      "image/png": "[encoded data removed]",
      "text/plain": [
       "<Figure size 432x288 with 1 Axes>"
      ]
     },
     "metadata": {},
     "output_type": "display_data"
    }
   ],
   "source": [
    "a = gradient(results.v)\n",
    "plot(a)\n",
    "decorate(xlabel='Time (s)',\n",
    "         ylabel='Acceleration (m/$s^2$)')"
   ]
  },
  {
   "cell_type": "markdown",
   "metadata": {},
   "source": [
    "And we can compute the maximum acceleration the jumper experiences:"
   ]
  },
  {
   "cell_type": "code",
   "execution_count": 112,
   "metadata": {},
   "outputs": [
    {
     "data": {
      "text/html": [
       "16.513791926703224 meter/second<sup>2</sup>"
      ],
      "text/latex": [
       "$16.513791926703224 \\frac{meter}{second^{2}}$"
      ],
      "text/plain": [
       "<Quantity(16.513791926703224, 'meter / second ** 2')>"
      ]
     },
     "execution_count": 112,
     "metadata": {},
     "output_type": "execute_result"
    }
   ],
   "source": [
    "max_acceleration = max(a) * m/s**2"
   ]
  },
  {
   "cell_type": "markdown",
   "metadata": {},
   "source": [
    "Relative to the acceleration of gravity, the jumper \"pulls\" about \"1.7 g's\"."
   ]
  },
  {
   "cell_type": "code",
   "execution_count": 113,
   "metadata": {},
   "outputs": [
    {
     "data": {
      "text/html": [
       "1.6850808088472675 dimensionless"
      ],
      "text/latex": [
       "$1.6850808088472675 dimensionless$"
      ],
      "text/plain": [
       "<Quantity(1.6850808088472675, 'dimensionless')>"
      ]
     },
     "execution_count": 113,
     "metadata": {},
     "output_type": "execute_result"
    }
   ],
   "source": [
    "max_acceleration / g"
   ]
  },
  {
   "cell_type": "markdown",
   "metadata": {},
   "source": [
    "### Under the hood\n",
    "\n",
    "The gradient function in `modsim.py` adapts the NumPy function of the same name so it works with `Series` objects.\n"
   ]
  },
  {
   "cell_type": "code",
   "execution_count": 46,
   "metadata": {},
   "outputs": [],
   "source": [
    "%psource gradient"
   ]
  },
  {
   "cell_type": "markdown",
   "metadata": {},
   "source": [
    "### Solving for length\n",
    "\n",
    "Assuming that `k` is fixed, let's find the length `L` that makes the minimum altitude of the jumper exactly 0."
   ]
  },
  {
   "cell_type": "markdown",
   "metadata": {},
   "source": [
    "The metric we are interested in is the lowest point of the first oscillation.  For both efficiency and accuracy, it is better to stop the simulation when we reach this point, rather than run past it and the compute the minimum.\n",
    "\n",
    "Here's an event function that stops the simulation when velocity is 0."
   ]
  },
  {
   "cell_type": "code",
   "execution_count": 114,
   "metadata": {},
   "outputs": [],
   "source": [
    "def event_func(state, t, system):\n",
    "    \"\"\"Return velocity.\n",
    "    \"\"\"\n",
    "    y, v = state\n",
    "    return v"
   ]
  },
  {
   "cell_type": "markdown",
   "metadata": {},
   "source": [
    "As usual, we should test it with the initial conditions."
   ]
  },
  {
   "cell_type": "code",
   "execution_count": 115,
   "metadata": {},
   "outputs": [
    {
     "data": {
      "text/html": [
       "0.0 meter/second"
      ],
      "text/latex": [
       "$0.0 \\frac{meter}{second}$"
      ],
      "text/plain": [
       "<Quantity(0.0, 'meter / second')>"
      ]
     },
     "execution_count": 115,
     "metadata": {},
     "output_type": "execute_result"
    }
   ],
   "source": [
    "event_func(system.init, 0, system)"
   ]
  },
  {
   "cell_type": "markdown",
   "metadata": {},
   "source": [
    "And we see that we have a problem.  Since the event function returns 0 under the initial conditions, the simulation would stop immediately.  We can solve that problem by specifying the direction of the event function:"
   ]
  },
  {
   "cell_type": "code",
   "execution_count": 139,
   "metadata": {},
   "outputs": [],
   "source": [
    "event_func.direction = +1"
   ]
  },
  {
   "cell_type": "markdown",
   "metadata": {},
   "source": [
    "When direction is positive, it only stops the simulation if the velocity is 0 and increasing, which is what we want."
   ]
  },
  {
   "cell_type": "markdown",
   "metadata": {},
   "source": [
    "Now we can test it an confirm that it stops at the bottom of the jump."
   ]
  },
  {
   "cell_type": "code",
   "execution_count": 140,
   "metadata": {},
   "outputs": [
    {
     "data": {
      "image/png": "[encoded data removed]",
      "text/plain": [
       "<Figure size 432x288 with 1 Axes>"
      ]
     },
     "metadata": {},
     "output_type": "display_data"
    }
   ],
   "source": [
    "results, details = run_ode_solver(system, slope_func, events=event_func, max_step=0.3*s)\n",
    "plot_position(results)"
   ]
  },
  {
   "cell_type": "code",
   "execution_count": 141,
   "metadata": {},
   "outputs": [
    {
     "data": {
      "text/plain": [
       "5.389813649207441"
      ]
     },
     "execution_count": 141,
     "metadata": {},
     "output_type": "execute_result"
    }
   ],
   "source": [
    "min(results.y)"
   ]
  },
  {
   "cell_type": "markdown",
   "metadata": {},
   "source": [
    "**Exercise:** Write an error function that takes `L` and `params` as arguments, simulates a bungee jump, and returns the lowest point.\n",
    "\n",
    "Test the error function with a guess of 25 m and confirm that the return value is about 5 meters.\n",
    "\n",
    "Use `fsolve` with your error function to find the value of `L` that yields a perfect bungee dunk.\n",
    "\n",
    "Run a simulation with the result from `fsolve` and confirm that it works.\n"
   ]
  },
  {
   "cell_type": "code",
   "execution_count": 130,
   "metadata": {},
   "outputs": [
    {
     "data": {
      "text/html": [
       "<div>\n",
       "<style scoped>\n",
       "    .dataframe tbody tr th:only-of-type {\n",
       "        vertical-align: middle;\n",
       "    }\n",
       "\n",
       "    .dataframe tbody tr th {\n",
       "        vertical-align: top;\n",
       "    }\n",
       "\n",
       "    .dataframe thead th {\n",
       "        text-align: right;\n",
       "    }\n",
       "</style>\n",
       "<table border=\"1\" class=\"dataframe\">\n",
       "  <thead>\n",
       "    <tr style=\"text-align: right;\">\n",
       "      <th></th>\n",
       "      <th>values</th>\n",
       "    </tr>\n",
       "  </thead>\n",
       "  <tbody>\n",
       "    <tr>\n",
       "      <th>y_attach</th>\n",
       "      <td>80 meter</td>\n",
       "    </tr>\n",
       "    <tr>\n",
       "      <th>v_init</th>\n",
       "      <td>0.0 meter / second</td>\n",
       "    </tr>\n",
       "    <tr>\n",
       "      <th>g</th>\n",
       "      <td>9.8 meter / second ** 2</td>\n",
       "    </tr>\n",
       "    <tr>\n",
       "      <th>mass</th>\n",
       "      <td>75 kilogram</td>\n",
       "    </tr>\n",
       "    <tr>\n",
       "      <th>area</th>\n",
       "      <td>1 meter ** 2</td>\n",
       "    </tr>\n",
       "    <tr>\n",
       "      <th>rho</th>\n",
       "      <td>1.2 kilogram / meter ** 3</td>\n",
       "    </tr>\n",
       "    <tr>\n",
       "      <th>v_term</th>\n",
       "      <td>60.0 meter / second</td>\n",
       "    </tr>\n",
       "    <tr>\n",
       "      <th>L</th>\n",
       "      <td>25 meter</td>\n",
       "    </tr>\n",
       "    <tr>\n",
       "      <th>k</th>\n",
       "      <td>40.0 newton / meter</td>\n",
       "    </tr>\n",
       "  </tbody>\n",
       "</table>\n",
       "</div>"
      ],
      "text/plain": [
       "y_attach                     80 meter\n",
       "v_init             0.0 meter / second\n",
       "g             9.8 meter / second ** 2\n",
       "mass                      75 kilogram\n",
       "area                     1 meter ** 2\n",
       "rho         1.2 kilogram / meter ** 3\n",
       "v_term            60.0 meter / second\n",
       "L                            25 meter\n",
       "k                 40.0 newton / meter\n",
       "dtype: object"
      ]
     },
     "execution_count": 130,
     "metadata": {},
     "output_type": "execute_result"
    }
   ],
   "source": [
    "params = Params(y_attach = 80 * m,\n",
    "                v_init = 0 * m / s,\n",
    "                g = 9.8 * m/s**2,\n",
    "                mass = 75 * kg,\n",
    "                area = 1 * m**2,\n",
    "                rho = 1.2 * kg/m**3,\n",
    "                v_term = 60 * m / s,\n",
    "                L = 25 * m,\n",
    "                k = 40 * N / m)"
   ]
  },
  {
   "cell_type": "code",
   "execution_count": 206,
   "metadata": {},
   "outputs": [],
   "source": [
    "def error_func2(L, params):\n",
    "    params1 = Params(params, L = L)\n",
    "    system = make_system(params1)\n",
    "    results, details = run_ode_solver(system, slope_func, events=event_func, max_step=0.3*s)\n",
    "    return min(results.y)"
   ]
  },
  {
   "cell_type": "markdown",
   "metadata": {},
   "source": []
  },
  {
   "cell_type": "code",
   "execution_count": 185,
   "metadata": {},
   "outputs": [
    {
     "name": "stdout",
     "output_type": "stream",
     "text": [
      "25\n"
     ]
    },
    {
     "data": {
      "text/plain": [
       "5.389813649207441"
      ]
     },
     "execution_count": 185,
     "metadata": {},
     "output_type": "execute_result"
    }
   ],
   "source": [
    "error_func2(25,params)\n"
   ]
  },
  {
   "cell_type": "code",
   "execution_count": 199,
   "metadata": {},
   "outputs": [
    {
     "name": "stdout",
     "output_type": "stream",
     "text": [
      "25\n",
      "[25]\n",
      "[25.]\n",
      "[25.]\n",
      "[25.00000037]\n",
      "[34.1252628]\n",
      "[34.53678953]\n",
      "[34.54225354]\n",
      "[34.54223651]\n"
     ]
    },
    {
     "data": {
      "text/plain": [
       "34.5422365057245"
      ]
     },
     "execution_count": 199,
     "metadata": {},
     "output_type": "execute_result"
    }
   ],
   "source": [
    "params1 = Params(params, L = L_best)\n",
    "L_best = fsolve(error_func2, 25, params1)[0]\n"
   ]
  },
  {
   "cell_type": "code",
   "execution_count": 194,
   "metadata": {},
   "outputs": [
    {
     "data": {
      "image/png": "[encoded data removed]",
      "text/plain": [
       "<Figure size 576x576 with 2 Axes>"
      ]
     },
     "metadata": {},
     "output_type": "display_data"
    }
   ],
   "source": [
    "params1 = Params(params, L = L_best, k = 50)\n",
    "system = make_system(params1)\n",
    "results, details = run_ode_solver(system, slope_func, events=event_func, max_step=0.3*s)\n",
    "subplot(2, 1, 1)\n",
    "plot_position(results)\n",
    "\n",
    "subplot(2, 1, 2)\n",
    "plot_velocity(results)"
   ]
  },
  {
   "cell_type": "markdown",
   "metadata": {},
   "source": [
    "**Optional exercise:** Search for the combination of length and spring constant that yields minimum height 0 while minimizing peak acceleration."
   ]
  },
  {
   "cell_type": "code",
   "execution_count": 216,
   "metadata": {},
   "outputs": [],
   "source": [
    "def error_func3(k,params):\n",
    "    params1 = Params(params, k = k*N/m)\n",
    "    print(k)\n",
    "    L_best = fsolve(error_func2, 30, params1)[0]\n",
    "    print(\"yo\", L_best)\n",
    "    params2 = Params(params1, L =L_best)\n",
    "    system = make_system(params2)\n",
    "    results, details = run_ode_solver(system, slope_func, events=event_func, max_step=0.3*s)\n",
    "    a = gradient(results.v)\n",
    "    print(2, max(a))\n",
    "    return max(a)"
   ]
  },
  {
   "cell_type": "code",
   "execution_count": 217,
   "metadata": {},
   "outputs": [
    {
     "name": "stdout",
     "output_type": "stream",
     "text": [
      "40\n",
      "yo 28.90796076127419\n",
      "2 17.43672311362272\n",
      "[40]\n",
      "yo 28.90796076127419\n",
      "2 17.43672311362272\n",
      "[40.]\n",
      "yo 28.90796076127419\n",
      "2 17.43672311362272\n",
      "[40.]\n",
      "yo 28.90796076127419\n",
      "2 17.43672311362272\n",
      "[40.0000006]\n",
      "yo 28.90796117729881\n",
      "2 17.43672330068309\n",
      "[-15.56012068]\n"
     ]
    },
    {
     "name": "stderr",
     "output_type": "stream",
     "text": [
      "C:\\Miniconda3\\lib\\site-packages\\scipy\\optimize\\minpack.py:163: RuntimeWarning: The iteration is not making good progress, as measured by the \n",
      "  improvement from the last ten iterations.\n",
      "  warnings.warn(msg, RuntimeWarning)\n"
     ]
    },
    {
     "name": "stdout",
     "output_type": "stream",
     "text": [
      "yo 1550.4326114587916\n",
      "2 -0.05764678269175951\n",
      "[-15.37704108]\n",
      "yo 1557.9392455706402\n",
      "2 -0.05764678269175951\n",
      "[-71.12024136]\n",
      "yo 1179.6926937157455\n",
      "2 -0.05764678269175951\n",
      "[-15.56012045]\n",
      "yo 1550.4331366909887\n",
      "2 -0.05764678269175951\n",
      "[12.21993966]\n",
      "yo -17.253032281884202\n",
      "2 6.043099443090744\n",
      "[-15.29762311]\n",
      "yo 1561.252610733496\n",
      "2 -0.05764678269175951\n",
      "[-8.6151056]\n",
      "yo 1427.6641700125806\n",
      "2 -0.05764678269175951\n",
      "[-12.08761314]\n",
      "yo 1055.9638623369083\n",
      "2 -0.05764678269175951\n",
      "[-13.82386691]\n",
      "yo 971.1105024295305\n",
      "2 -0.05764678269175951\n",
      "[-14.6919938]\n"
     ]
    },
    {
     "ename": "KeyboardInterrupt",
     "evalue": "",
     "output_type": "error",
     "traceback": [
      "\u001b[1;31m---------------------------------------------------------------------------\u001b[0m",
      "\u001b[1;31mKeyboardInterrupt\u001b[0m                         Traceback (most recent call last)",
      "\u001b[1;32m<ipython-input-217-af295e4c7f5a>\u001b[0m in \u001b[0;36m<module>\u001b[1;34m()\u001b[0m\n\u001b[1;32m----> 1\u001b[1;33m \u001b[0mfsolve\u001b[0m\u001b[1;33m(\u001b[0m\u001b[0merror_func3\u001b[0m\u001b[1;33m,\u001b[0m \u001b[1;36m40\u001b[0m\u001b[1;33m,\u001b[0m \u001b[0mparams\u001b[0m\u001b[1;33m)\u001b[0m\u001b[1;33m\u001b[0m\u001b[0m\n\u001b[0m",
      "\u001b[1;32m~\\Documents\\ModSimPy\\code\\modsim.py\u001b[0m in \u001b[0;36mfsolve\u001b[1;34m(func, x0, *args, **options)\u001b[0m\n\u001b[0;32m    537\u001b[0m     \u001b[1;31m# run fsolve\u001b[0m\u001b[1;33m\u001b[0m\u001b[1;33m\u001b[0m\u001b[0m\n\u001b[0;32m    538\u001b[0m     \u001b[1;32mwith\u001b[0m \u001b[0munits_off\u001b[0m\u001b[1;33m(\u001b[0m\u001b[1;33m)\u001b[0m\u001b[1;33m:\u001b[0m\u001b[1;33m\u001b[0m\u001b[0m\n\u001b[1;32m--> 539\u001b[1;33m         \u001b[0mresult\u001b[0m \u001b[1;33m=\u001b[0m \u001b[0mscipy\u001b[0m\u001b[1;33m.\u001b[0m\u001b[0moptimize\u001b[0m\u001b[1;33m.\u001b[0m\u001b[0mfsolve\u001b[0m\u001b[1;33m(\u001b[0m\u001b[0mfunc\u001b[0m\u001b[1;33m,\u001b[0m \u001b[0mx0\u001b[0m\u001b[1;33m,\u001b[0m \u001b[0margs\u001b[0m\u001b[1;33m=\u001b[0m\u001b[0margs\u001b[0m\u001b[1;33m,\u001b[0m \u001b[1;33m**\u001b[0m\u001b[0moptions\u001b[0m\u001b[1;33m)\u001b[0m\u001b[1;33m\u001b[0m\u001b[0m\n\u001b[0m\u001b[0;32m    540\u001b[0m \u001b[1;33m\u001b[0m\u001b[0m\n\u001b[0;32m    541\u001b[0m     \u001b[1;32mreturn\u001b[0m \u001b[0mresult\u001b[0m\u001b[1;33m\u001b[0m\u001b[0m\n",
      "\u001b[1;32mC:\\Miniconda3\\lib\\site-packages\\scipy\\optimize\\minpack.py\u001b[0m in \u001b[0;36mfsolve\u001b[1;34m(func, x0, args, fprime, full_output, col_deriv, xtol, maxfev, band, epsfcn, factor, diag)\u001b[0m\n\u001b[0;32m    146\u001b[0m                'diag': diag}\n\u001b[0;32m    147\u001b[0m \u001b[1;33m\u001b[0m\u001b[0m\n\u001b[1;32m--> 148\u001b[1;33m     \u001b[0mres\u001b[0m \u001b[1;33m=\u001b[0m \u001b[0m_root_hybr\u001b[0m\u001b[1;33m(\u001b[0m\u001b[0mfunc\u001b[0m\u001b[1;33m,\u001b[0m \u001b[0mx0\u001b[0m\u001b[1;33m,\u001b[0m \u001b[0margs\u001b[0m\u001b[1;33m,\u001b[0m \u001b[0mjac\u001b[0m\u001b[1;33m=\u001b[0m\u001b[0mfprime\u001b[0m\u001b[1;33m,\u001b[0m \u001b[1;33m**\u001b[0m\u001b[0moptions\u001b[0m\u001b[1;33m)\u001b[0m\u001b[1;33m\u001b[0m\u001b[0m\n\u001b[0m\u001b[0;32m    149\u001b[0m     \u001b[1;32mif\u001b[0m \u001b[0mfull_output\u001b[0m\u001b[1;33m:\u001b[0m\u001b[1;33m\u001b[0m\u001b[0m\n\u001b[0;32m    150\u001b[0m         \u001b[0mx\u001b[0m \u001b[1;33m=\u001b[0m \u001b[0mres\u001b[0m\u001b[1;33m[\u001b[0m\u001b[1;34m'x'\u001b[0m\u001b[1;33m]\u001b[0m\u001b[1;33m\u001b[0m\u001b[0m\n",
      "\u001b[1;32mC:\\Miniconda3\\lib\\site-packages\\scipy\\optimize\\minpack.py\u001b[0m in \u001b[0;36m_root_hybr\u001b[1;34m(func, x0, args, jac, col_deriv, xtol, maxfev, band, eps, factor, diag, **unknown_options)\u001b[0m\n\u001b[0;32m    225\u001b[0m         \u001b[1;32mwith\u001b[0m \u001b[0m_MINPACK_LOCK\u001b[0m\u001b[1;33m:\u001b[0m\u001b[1;33m\u001b[0m\u001b[0m\n\u001b[0;32m    226\u001b[0m             retval = _minpack._hybrd(func, x0, args, 1, xtol, maxfev,\n\u001b[1;32m--> 227\u001b[1;33m                                      ml, mu, epsfcn, factor, diag)\n\u001b[0m\u001b[0;32m    228\u001b[0m     \u001b[1;32melse\u001b[0m\u001b[1;33m:\u001b[0m\u001b[1;33m\u001b[0m\u001b[0m\n\u001b[0;32m    229\u001b[0m         \u001b[0m_check_func\u001b[0m\u001b[1;33m(\u001b[0m\u001b[1;34m'fsolve'\u001b[0m\u001b[1;33m,\u001b[0m \u001b[1;34m'fprime'\u001b[0m\u001b[1;33m,\u001b[0m \u001b[0mDfun\u001b[0m\u001b[1;33m,\u001b[0m \u001b[0mx0\u001b[0m\u001b[1;33m,\u001b[0m \u001b[0margs\u001b[0m\u001b[1;33m,\u001b[0m \u001b[0mn\u001b[0m\u001b[1;33m,\u001b[0m \u001b[1;33m(\u001b[0m\u001b[0mn\u001b[0m\u001b[1;33m,\u001b[0m \u001b[0mn\u001b[0m\u001b[1;33m)\u001b[0m\u001b[1;33m)\u001b[0m\u001b[1;33m\u001b[0m\u001b[0m\n",
      "\u001b[1;32m<ipython-input-216-73eb7150d6b4>\u001b[0m in \u001b[0;36merror_func3\u001b[1;34m(k, params)\u001b[0m\n\u001b[0;32m      2\u001b[0m     \u001b[0mparams1\u001b[0m \u001b[1;33m=\u001b[0m \u001b[0mParams\u001b[0m\u001b[1;33m(\u001b[0m\u001b[0mparams\u001b[0m\u001b[1;33m,\u001b[0m \u001b[0mk\u001b[0m \u001b[1;33m=\u001b[0m \u001b[0mk\u001b[0m\u001b[1;33m*\u001b[0m\u001b[0mN\u001b[0m\u001b[1;33m/\u001b[0m\u001b[0mm\u001b[0m\u001b[1;33m)\u001b[0m\u001b[1;33m\u001b[0m\u001b[0m\n\u001b[0;32m      3\u001b[0m     \u001b[0mprint\u001b[0m\u001b[1;33m(\u001b[0m\u001b[0mk\u001b[0m\u001b[1;33m)\u001b[0m\u001b[1;33m\u001b[0m\u001b[0m\n\u001b[1;32m----> 4\u001b[1;33m     \u001b[0mL_best\u001b[0m \u001b[1;33m=\u001b[0m \u001b[0mfsolve\u001b[0m\u001b[1;33m(\u001b[0m\u001b[0merror_func2\u001b[0m\u001b[1;33m,\u001b[0m \u001b[1;36m30\u001b[0m\u001b[1;33m,\u001b[0m \u001b[0mparams1\u001b[0m\u001b[1;33m)\u001b[0m\u001b[1;33m[\u001b[0m\u001b[1;36m0\u001b[0m\u001b[1;33m]\u001b[0m\u001b[1;33m\u001b[0m\u001b[0m\n\u001b[0m\u001b[0;32m      5\u001b[0m     \u001b[0mprint\u001b[0m\u001b[1;33m(\u001b[0m\u001b[1;34m\"yo\"\u001b[0m\u001b[1;33m,\u001b[0m \u001b[0mL_best\u001b[0m\u001b[1;33m)\u001b[0m\u001b[1;33m\u001b[0m\u001b[0m\n\u001b[0;32m      6\u001b[0m     \u001b[0mparams2\u001b[0m \u001b[1;33m=\u001b[0m \u001b[0mParams\u001b[0m\u001b[1;33m(\u001b[0m\u001b[0mparams1\u001b[0m\u001b[1;33m,\u001b[0m \u001b[0mL\u001b[0m \u001b[1;33m=\u001b[0m\u001b[0mL_best\u001b[0m\u001b[1;33m)\u001b[0m\u001b[1;33m\u001b[0m\u001b[0m\n",
      "\u001b[1;32m~\\Documents\\ModSimPy\\code\\modsim.py\u001b[0m in \u001b[0;36mfsolve\u001b[1;34m(func, x0, *args, **options)\u001b[0m\n\u001b[0;32m    537\u001b[0m     \u001b[1;31m# run fsolve\u001b[0m\u001b[1;33m\u001b[0m\u001b[1;33m\u001b[0m\u001b[0m\n\u001b[0;32m    538\u001b[0m     \u001b[1;32mwith\u001b[0m \u001b[0munits_off\u001b[0m\u001b[1;33m(\u001b[0m\u001b[1;33m)\u001b[0m\u001b[1;33m:\u001b[0m\u001b[1;33m\u001b[0m\u001b[0m\n\u001b[1;32m--> 539\u001b[1;33m         \u001b[0mresult\u001b[0m \u001b[1;33m=\u001b[0m \u001b[0mscipy\u001b[0m\u001b[1;33m.\u001b[0m\u001b[0moptimize\u001b[0m\u001b[1;33m.\u001b[0m\u001b[0mfsolve\u001b[0m\u001b[1;33m(\u001b[0m\u001b[0mfunc\u001b[0m\u001b[1;33m,\u001b[0m \u001b[0mx0\u001b[0m\u001b[1;33m,\u001b[0m \u001b[0margs\u001b[0m\u001b[1;33m=\u001b[0m\u001b[0margs\u001b[0m\u001b[1;33m,\u001b[0m \u001b[1;33m**\u001b[0m\u001b[0moptions\u001b[0m\u001b[1;33m)\u001b[0m\u001b[1;33m\u001b[0m\u001b[0m\n\u001b[0m\u001b[0;32m    540\u001b[0m \u001b[1;33m\u001b[0m\u001b[0m\n\u001b[0;32m    541\u001b[0m     \u001b[1;32mreturn\u001b[0m \u001b[0mresult\u001b[0m\u001b[1;33m\u001b[0m\u001b[0m\n",
      "\u001b[1;32mC:\\Miniconda3\\lib\\site-packages\\scipy\\optimize\\minpack.py\u001b[0m in \u001b[0;36mfsolve\u001b[1;34m(func, x0, args, fprime, full_output, col_deriv, xtol, maxfev, band, epsfcn, factor, diag)\u001b[0m\n\u001b[0;32m    146\u001b[0m                'diag': diag}\n\u001b[0;32m    147\u001b[0m \u001b[1;33m\u001b[0m\u001b[0m\n\u001b[1;32m--> 148\u001b[1;33m     \u001b[0mres\u001b[0m \u001b[1;33m=\u001b[0m \u001b[0m_root_hybr\u001b[0m\u001b[1;33m(\u001b[0m\u001b[0mfunc\u001b[0m\u001b[1;33m,\u001b[0m \u001b[0mx0\u001b[0m\u001b[1;33m,\u001b[0m \u001b[0margs\u001b[0m\u001b[1;33m,\u001b[0m \u001b[0mjac\u001b[0m\u001b[1;33m=\u001b[0m\u001b[0mfprime\u001b[0m\u001b[1;33m,\u001b[0m \u001b[1;33m**\u001b[0m\u001b[0moptions\u001b[0m\u001b[1;33m)\u001b[0m\u001b[1;33m\u001b[0m\u001b[0m\n\u001b[0m\u001b[0;32m    149\u001b[0m     \u001b[1;32mif\u001b[0m \u001b[0mfull_output\u001b[0m\u001b[1;33m:\u001b[0m\u001b[1;33m\u001b[0m\u001b[0m\n\u001b[0;32m    150\u001b[0m         \u001b[0mx\u001b[0m \u001b[1;33m=\u001b[0m \u001b[0mres\u001b[0m\u001b[1;33m[\u001b[0m\u001b[1;34m'x'\u001b[0m\u001b[1;33m]\u001b[0m\u001b[1;33m\u001b[0m\u001b[0m\n",
      "\u001b[1;32mC:\\Miniconda3\\lib\\site-packages\\scipy\\optimize\\minpack.py\u001b[0m in \u001b[0;36m_root_hybr\u001b[1;34m(func, x0, args, jac, col_deriv, xtol, maxfev, band, eps, factor, diag, **unknown_options)\u001b[0m\n\u001b[0;32m    225\u001b[0m         \u001b[1;32mwith\u001b[0m \u001b[0m_MINPACK_LOCK\u001b[0m\u001b[1;33m:\u001b[0m\u001b[1;33m\u001b[0m\u001b[0m\n\u001b[0;32m    226\u001b[0m             retval = _minpack._hybrd(func, x0, args, 1, xtol, maxfev,\n\u001b[1;32m--> 227\u001b[1;33m                                      ml, mu, epsfcn, factor, diag)\n\u001b[0m\u001b[0;32m    228\u001b[0m     \u001b[1;32melse\u001b[0m\u001b[1;33m:\u001b[0m\u001b[1;33m\u001b[0m\u001b[0m\n\u001b[0;32m    229\u001b[0m         \u001b[0m_check_func\u001b[0m\u001b[1;33m(\u001b[0m\u001b[1;34m'fsolve'\u001b[0m\u001b[1;33m,\u001b[0m \u001b[1;34m'fprime'\u001b[0m\u001b[1;33m,\u001b[0m \u001b[0mDfun\u001b[0m\u001b[1;33m,\u001b[0m \u001b[0mx0\u001b[0m\u001b[1;33m,\u001b[0m \u001b[0margs\u001b[0m\u001b[1;33m,\u001b[0m \u001b[0mn\u001b[0m\u001b[1;33m,\u001b[0m \u001b[1;33m(\u001b[0m\u001b[0mn\u001b[0m\u001b[1;33m,\u001b[0m \u001b[0mn\u001b[0m\u001b[1;33m)\u001b[0m\u001b[1;33m)\u001b[0m\u001b[1;33m\u001b[0m\u001b[0m\n",
      "\u001b[1;32m<ipython-input-206-a1bb4bc3e8b9>\u001b[0m in \u001b[0;36merror_func2\u001b[1;34m(L, params)\u001b[0m\n\u001b[0;32m      2\u001b[0m     \u001b[0mparams1\u001b[0m \u001b[1;33m=\u001b[0m \u001b[0mParams\u001b[0m\u001b[1;33m(\u001b[0m\u001b[0mparams\u001b[0m\u001b[1;33m,\u001b[0m \u001b[0mL\u001b[0m \u001b[1;33m=\u001b[0m \u001b[0mL\u001b[0m\u001b[1;33m)\u001b[0m\u001b[1;33m\u001b[0m\u001b[0m\n\u001b[0;32m      3\u001b[0m     \u001b[0msystem\u001b[0m \u001b[1;33m=\u001b[0m \u001b[0mmake_system\u001b[0m\u001b[1;33m(\u001b[0m\u001b[0mparams1\u001b[0m\u001b[1;33m)\u001b[0m\u001b[1;33m\u001b[0m\u001b[0m\n\u001b[1;32m----> 4\u001b[1;33m     \u001b[0mresults\u001b[0m\u001b[1;33m,\u001b[0m \u001b[0mdetails\u001b[0m \u001b[1;33m=\u001b[0m \u001b[0mrun_ode_solver\u001b[0m\u001b[1;33m(\u001b[0m\u001b[0msystem\u001b[0m\u001b[1;33m,\u001b[0m \u001b[0mslope_func\u001b[0m\u001b[1;33m,\u001b[0m \u001b[0mevents\u001b[0m\u001b[1;33m=\u001b[0m\u001b[0mevent_func\u001b[0m\u001b[1;33m,\u001b[0m \u001b[0mmax_step\u001b[0m\u001b[1;33m=\u001b[0m\u001b[1;36m0.3\u001b[0m\u001b[1;33m*\u001b[0m\u001b[0ms\u001b[0m\u001b[1;33m)\u001b[0m\u001b[1;33m\u001b[0m\u001b[0m\n\u001b[0m\u001b[0;32m      5\u001b[0m     \u001b[1;32mreturn\u001b[0m \u001b[0mmin\u001b[0m\u001b[1;33m(\u001b[0m\u001b[0mresults\u001b[0m\u001b[1;33m.\u001b[0m\u001b[0my\u001b[0m\u001b[1;33m)\u001b[0m\u001b[1;33m\u001b[0m\u001b[0m\n",
      "\u001b[1;32m~\\Documents\\ModSimPy\\code\\modsim.py\u001b[0m in \u001b[0;36mrun_ode_solver\u001b[1;34m(system, slope_func, **options)\u001b[0m\n\u001b[0;32m    495\u001b[0m     \u001b[1;31m# run the solver\u001b[0m\u001b[1;33m\u001b[0m\u001b[1;33m\u001b[0m\u001b[0m\n\u001b[0;32m    496\u001b[0m     \u001b[1;32mwith\u001b[0m \u001b[0munits_off\u001b[0m\u001b[1;33m(\u001b[0m\u001b[1;33m)\u001b[0m\u001b[1;33m:\u001b[0m\u001b[1;33m\u001b[0m\u001b[0m\n\u001b[1;32m--> 497\u001b[1;33m         \u001b[0mbunch\u001b[0m \u001b[1;33m=\u001b[0m \u001b[0msolve_ivp\u001b[0m\u001b[1;33m(\u001b[0m\u001b[0mf\u001b[0m\u001b[1;33m,\u001b[0m \u001b[1;33m[\u001b[0m\u001b[0mt_0\u001b[0m\u001b[1;33m,\u001b[0m \u001b[0mt_end\u001b[0m\u001b[1;33m]\u001b[0m\u001b[1;33m,\u001b[0m \u001b[0my_0\u001b[0m\u001b[1;33m,\u001b[0m \u001b[0mevents\u001b[0m\u001b[1;33m=\u001b[0m\u001b[0mevents\u001b[0m\u001b[1;33m,\u001b[0m \u001b[1;33m**\u001b[0m\u001b[0moptions\u001b[0m\u001b[1;33m)\u001b[0m\u001b[1;33m\u001b[0m\u001b[0m\n\u001b[0m\u001b[0;32m    498\u001b[0m \u001b[1;33m\u001b[0m\u001b[0m\n\u001b[0;32m    499\u001b[0m     \u001b[1;31m# separate the results from the details\u001b[0m\u001b[1;33m\u001b[0m\u001b[1;33m\u001b[0m\u001b[0m\n",
      "\u001b[1;32mC:\\Miniconda3\\lib\\site-packages\\scipy\\integrate\\_ivp\\ivp.py\u001b[0m in \u001b[0;36msolve_ivp\u001b[1;34m(fun, t_span, y0, method, t_eval, dense_output, events, vectorized, **options)\u001b[0m\n\u001b[0;32m    473\u001b[0m     \u001b[0mstatus\u001b[0m \u001b[1;33m=\u001b[0m \u001b[1;32mNone\u001b[0m\u001b[1;33m\u001b[0m\u001b[0m\n\u001b[0;32m    474\u001b[0m     \u001b[1;32mwhile\u001b[0m \u001b[0mstatus\u001b[0m \u001b[1;32mis\u001b[0m \u001b[1;32mNone\u001b[0m\u001b[1;33m:\u001b[0m\u001b[1;33m\u001b[0m\u001b[0m\n\u001b[1;32m--> 475\u001b[1;33m         \u001b[0mmessage\u001b[0m \u001b[1;33m=\u001b[0m \u001b[0msolver\u001b[0m\u001b[1;33m.\u001b[0m\u001b[0mstep\u001b[0m\u001b[1;33m(\u001b[0m\u001b[1;33m)\u001b[0m\u001b[1;33m\u001b[0m\u001b[0m\n\u001b[0m\u001b[0;32m    476\u001b[0m \u001b[1;33m\u001b[0m\u001b[0m\n\u001b[0;32m    477\u001b[0m         \u001b[1;32mif\u001b[0m \u001b[0msolver\u001b[0m\u001b[1;33m.\u001b[0m\u001b[0mstatus\u001b[0m \u001b[1;33m==\u001b[0m \u001b[1;34m'finished'\u001b[0m\u001b[1;33m:\u001b[0m\u001b[1;33m\u001b[0m\u001b[0m\n",
      "\u001b[1;32mC:\\Miniconda3\\lib\\site-packages\\scipy\\integrate\\_ivp\\base.py\u001b[0m in \u001b[0;36mstep\u001b[1;34m(self)\u001b[0m\n\u001b[0;32m    180\u001b[0m         \u001b[1;32melse\u001b[0m\u001b[1;33m:\u001b[0m\u001b[1;33m\u001b[0m\u001b[0m\n\u001b[0;32m    181\u001b[0m             \u001b[0mt\u001b[0m \u001b[1;33m=\u001b[0m \u001b[0mself\u001b[0m\u001b[1;33m.\u001b[0m\u001b[0mt\u001b[0m\u001b[1;33m\u001b[0m\u001b[0m\n\u001b[1;32m--> 182\u001b[1;33m             \u001b[0msuccess\u001b[0m\u001b[1;33m,\u001b[0m \u001b[0mmessage\u001b[0m \u001b[1;33m=\u001b[0m \u001b[0mself\u001b[0m\u001b[1;33m.\u001b[0m\u001b[0m_step_impl\u001b[0m\u001b[1;33m(\u001b[0m\u001b[1;33m)\u001b[0m\u001b[1;33m\u001b[0m\u001b[0m\n\u001b[0m\u001b[0;32m    183\u001b[0m \u001b[1;33m\u001b[0m\u001b[0m\n\u001b[0;32m    184\u001b[0m             \u001b[1;32mif\u001b[0m \u001b[1;32mnot\u001b[0m \u001b[0msuccess\u001b[0m\u001b[1;33m:\u001b[0m\u001b[1;33m\u001b[0m\u001b[0m\n",
      "\u001b[1;32mC:\\Miniconda3\\lib\\site-packages\\scipy\\integrate\\_ivp\\rk.py\u001b[0m in \u001b[0;36m_step_impl\u001b[1;34m(self)\u001b[0m\n\u001b[0;32m    137\u001b[0m \u001b[1;33m\u001b[0m\u001b[0m\n\u001b[0;32m    138\u001b[0m             y_new, f_new, error = rk_step(self.fun, t, y, self.f, h, self.A,\n\u001b[1;32m--> 139\u001b[1;33m                                           self.B, self.C, self.E, self.K)\n\u001b[0m\u001b[0;32m    140\u001b[0m             \u001b[0mscale\u001b[0m \u001b[1;33m=\u001b[0m \u001b[0matol\u001b[0m \u001b[1;33m+\u001b[0m \u001b[0mnp\u001b[0m\u001b[1;33m.\u001b[0m\u001b[0mmaximum\u001b[0m\u001b[1;33m(\u001b[0m\u001b[0mnp\u001b[0m\u001b[1;33m.\u001b[0m\u001b[0mabs\u001b[0m\u001b[1;33m(\u001b[0m\u001b[0my\u001b[0m\u001b[1;33m)\u001b[0m\u001b[1;33m,\u001b[0m \u001b[0mnp\u001b[0m\u001b[1;33m.\u001b[0m\u001b[0mabs\u001b[0m\u001b[1;33m(\u001b[0m\u001b[0my_new\u001b[0m\u001b[1;33m)\u001b[0m\u001b[1;33m)\u001b[0m \u001b[1;33m*\u001b[0m \u001b[0mrtol\u001b[0m\u001b[1;33m\u001b[0m\u001b[0m\n\u001b[0;32m    141\u001b[0m             \u001b[0merror_norm\u001b[0m \u001b[1;33m=\u001b[0m \u001b[0mnorm\u001b[0m\u001b[1;33m(\u001b[0m\u001b[0merror\u001b[0m \u001b[1;33m/\u001b[0m \u001b[0mscale\u001b[0m\u001b[1;33m)\u001b[0m\u001b[1;33m\u001b[0m\u001b[0m\n",
      "\u001b[1;32mC:\\Miniconda3\\lib\\site-packages\\scipy\\integrate\\_ivp\\rk.py\u001b[0m in \u001b[0;36mrk_step\u001b[1;34m(fun, t, y, f, h, A, B, C, E, K)\u001b[0m\n\u001b[0;32m     74\u001b[0m \u001b[1;33m\u001b[0m\u001b[0m\n\u001b[0;32m     75\u001b[0m     \u001b[0mK\u001b[0m\u001b[1;33m[\u001b[0m\u001b[1;33m-\u001b[0m\u001b[1;36m1\u001b[0m\u001b[1;33m]\u001b[0m \u001b[1;33m=\u001b[0m \u001b[0mf_new\u001b[0m\u001b[1;33m\u001b[0m\u001b[0m\n\u001b[1;32m---> 76\u001b[1;33m     \u001b[0merror\u001b[0m \u001b[1;33m=\u001b[0m \u001b[0mnp\u001b[0m\u001b[1;33m.\u001b[0m\u001b[0mdot\u001b[0m\u001b[1;33m(\u001b[0m\u001b[0mK\u001b[0m\u001b[1;33m.\u001b[0m\u001b[0mT\u001b[0m\u001b[1;33m,\u001b[0m \u001b[0mE\u001b[0m\u001b[1;33m)\u001b[0m \u001b[1;33m*\u001b[0m \u001b[0mh\u001b[0m\u001b[1;33m\u001b[0m\u001b[0m\n\u001b[0m\u001b[0;32m     77\u001b[0m \u001b[1;33m\u001b[0m\u001b[0m\n\u001b[0;32m     78\u001b[0m     \u001b[1;32mreturn\u001b[0m \u001b[0my_new\u001b[0m\u001b[1;33m,\u001b[0m \u001b[0mf_new\u001b[0m\u001b[1;33m,\u001b[0m \u001b[0merror\u001b[0m\u001b[1;33m\u001b[0m\u001b[0m\n",
      "\u001b[1;31mKeyboardInterrupt\u001b[0m: "
     ]
    }
   ],
   "source": [
    "fsolve(error_func3, 40, params)"
   ]
  },
  {
   "cell_type": "code",
   "execution_count": 57,
   "metadata": {},
   "outputs": [],
   "source": [
    "# Solution goes here"
   ]
  },
  {
   "cell_type": "code",
   "execution_count": null,
   "metadata": {},
   "outputs": [],
   "source": []
  }
 ],
 "metadata": {
  "kernelspec": {
   "display_name": "Python 3",
   "language": "python",
   "name": "python3"
  },
  "language_info": {
   "codemirror_mode": {
    "name": "ipython",
    "version": 3
   },
   "file_extension": ".py",
   "mimetype": "text/x-python",
   "name": "python",
   "nbconvert_exporter": "python",
   "pygments_lexer": "ipython3",
   "version": "3.6.6"
  }
 },
 "nbformat": 4,
 "nbformat_minor": 2
}
